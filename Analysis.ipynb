{
 "cells": [
  {
   "cell_type": "code",
   "execution_count": 2,
   "metadata": {},
   "outputs": [],
   "source": [
    "# import library\n",
    "import pandas as pd\n",
    "import numpy as np \n",
    "import matlab \n",
    "import matplotlib as plt\n",
    "import os\n",
    "import numpy as np\n"
   ]
  },
  {
   "cell_type": "code",
   "execution_count": 35,
   "metadata": {},
   "outputs": [],
   "source": [
    "# read the file\n",
    "# mortality\n",
    "mortality_path_7 = r'data/MortIcd7.csv'\n",
    "mortality_data_7 = pd.read_csv(mortality_path_7, low_memory=False)\n",
    "mortality_path_8 = r'data/MortIcd8.csv'\n",
    "mortality_data_8 = pd.read_csv(mortality_path_8, low_memory=False)\n",
    "mortality_path_9 = r'data/MortIcd9.csv'\n",
    "mortality_data_9 = pd.read_csv(mortality_path_9, low_memory=False)\n",
    "\n",
    "mortality_df = pd.concat([mortality_data_7, mortality_data_8, mortality_data_9], ignore_index=True)\n",
    "\n",
    "mortality_path_2002 = r'data/Morticd10_part1.csv'\n",
    "mortality_data_2002 = pd.read_csv(mortality_path_2002, low_memory=False)\n",
    "\n",
    "mortality_path_2007 = r'data/Morticd10_part2.csv'\n",
    "mortality_data_2007 = pd.read_csv(mortality_path_2007, low_memory=False)\n",
    "\n",
    "# population\n",
    "pop_path = r'data/pop.csv'\n",
    "pop_data = pd.read_csv(pop_path, low_memory=False)\n",
    "# country code\n",
    "country_code_path = r'data/country_codes.csv'\n",
    "country_code = pd.read_csv(country_code_path, low_memory=False)\n",
    "# changes to the mortality data file, creating a new data frame with only the number of deaths and the population, country, year, deaths1 - deaths26, pop1 - pop 26, im_death\n",
    "# creating the country code map \n",
    "country_code_map = {}\n",
    "for index, rows in country_code.iterrows():\n",
    "    country_code_map[rows['country']] = rows['name']"
   ]
  },
  {
   "cell_type": "code",
   "execution_count": 58,
   "metadata": {},
   "outputs": [
    {
     "data": {
      "text/plain": [
       "[]"
      ]
     },
     "execution_count": 58,
     "metadata": {},
     "output_type": "execute_result"
    }
   ],
   "source": [
    "country_list = []\n",
    "for key in country_code_map:\n",
    "    df = mortality_data_2007[mortality_data_2007['Country'] == key]\n",
    "    year_list = list(df['Year'])\n",
    "    for i in range (2003, 2008):\n",
    "        if i not in year_list:\n",
    "            country_list.append(key)\n",
    "            break\n",
    "\n",
    "\n",
    "# delete keys from dictionary\n",
    "for key in country_list:\n",
    "    del country_code_map[key]\n",
    "\n",
    "\n",
    "population_list = []\n",
    "for i in country_code_map:\n",
    "    df = pop_data[pop_data['Country'] == key]\n",
    "    year_list = list(df['Year'])\n",
    "    for i in range (2003, 2008):\n",
    "        if i not in year_list:\n",
    "            population_list.append(key)\n",
    "            break\n",
    "\n",
    "\n",
    "\n",
    "\n",
    "\n",
    "\n",
    "\n",
    "\n"
   ]
  },
  {
   "cell_type": "code",
   "execution_count": 16,
   "metadata": {},
   "outputs": [],
   "source": [
    "# looping through the code map to locate each different countries\n",
    "# condense the mortality and pop rate \n",
    "undesired = ['Admin1', 'SubDiv', 'Sex', 'List', 'Frmat', 'IM_Frmat', 'Cause', 'IM_Deaths1','IM_Deaths2', 'IM_Deaths3', 'IM_Deaths4']\n",
    "modified_dict = {}\n",
    "for i in mortality_data_2002.columns.values:\n",
    "    if i not in undesired:\n",
    "       modified_dict[i] = []\n",
    "\n",
    "modified_df = pd.DataFrame(modified_dict)\n",
    "list_delete_keys = []\n",
    "consider_population = True\n",
    "\n",
    "for key in country_code_map: \n",
    "    temp_mortality_df = mortality_data_2002[mortality_data_2002['Country'] == key] # filter to the country\n",
    "    temp_pop_data = pop_data[pop_data['Country'] == key]\n",
    "    if temp_mortality_df.empty:\n",
    "        list_delete_keys.append(key)\n",
    "    else:\n",
    "        for i in range (1980, 2003):\n",
    "            temp_temp_mortality_df = temp_mortality_df.loc[temp_mortality_df['Year'] == i] # filter to the year \n",
    "            temp_temp_pop_data = temp_pop_data.loc[temp_pop_data['Year'] == i] \n",
    "            if temp_temp_mortality_df.empty:\n",
    "                continue\n",
    "            else:\n",
    "                modified_df.loc[modified_df.shape[0]] = ['None'] * modified_df.shape[1]\n",
    "                modified_df.loc[modified_df.shape[0]-1, ['Country']] = key\n",
    "                modified_df.loc[modified_df.shape[0]-1, ['Year']] = i\n",
    "                column_name = modified_df.columns.values \n",
    "                k = 1\n",
    "                for c in column_name[2:]:\n",
    "                    j = f'Pop{k}'\n",
    "                    population = temp_temp_pop_data[j].sum()\n",
    "                    if c in temp_temp_mortality_df.columns.values:\n",
    "                        if consider_population:\n",
    "                            if population == 0:\n",
    "                                modified_df.loc[modified_df.shape[0]-1, [c]] = 0\n",
    "                            else:\n",
    "                                modified_df.loc[modified_df.shape[0]-1, [c]] = temp_temp_mortality_df[c].sum() / population\n",
    "                        else:    \n",
    "                            modified_df.loc[modified_df.shape[0]-1, [c]] = temp_temp_mortality_df[c].sum() \n",
    "                    k += 1\n",
    "            \n",
    "                # modified_df.index = modified_df.index + 1\n",
    "                # modified_df = modified_df.sort_index()      "
   ]
  },
  {
   "cell_type": "code",
   "execution_count": 18,
   "metadata": {},
   "outputs": [],
   "source": [
    "# delete keys from dictionary\n",
    "for key in list_delete_keys:\n",
    "    del country_code_map[key]"
   ]
  },
  {
   "cell_type": "code",
   "execution_count": 19,
   "metadata": {},
   "outputs": [],
   "source": [
    "# building the mortality model \n",
    "country_mortality_model = {}\n",
    "final_beginning_year = 9999\n",
    "for key in country_code_map:\n",
    "    # isolate country\n",
    "    temp_modified_df = modified_df[modified_df['Country'] == key]\n",
    "    # temp_modified_df.drop(columns=['Country'], inplace = True) \n",
    "    \n",
    "    # finding alpha \n",
    "    last_year = temp_modified_df['Year'].max()\n",
    "    \n",
    "    if last_year < final_beginning_year:\n",
    "        final_beginning_year = last_year\n",
    "    \n",
    "    first_year = temp_modified_df['Year'].min()\n",
    "    duration = last_year - first_year + 1\n",
    "    last_row = temp_modified_df[temp_modified_df['Year'] == last_year].loc[:, ~temp_modified_df.columns.isin(['Country', 'Year'])].values.astype('float')\n",
    "    first_row = temp_modified_df[temp_modified_df['Year'] == first_year].loc[:, ~temp_modified_df.columns.isin(['Country', 'Year'])].values.astype('float')\n",
    "    aphla = (last_row - first_row) / duration\n",
    "\n",
    "    country_mortality_model[key] = {'a': aphla, 'd': duration}"
   ]
  },
  {
   "cell_type": "code",
   "execution_count": 55,
   "metadata": {},
   "outputs": [
    {
     "name": "stdout",
     "output_type": "stream",
     "text": [
      "1125\n",
      "1310\n",
      "1360\n",
      "1400\n",
      "1430\n",
      "2005\n",
      "2010\n",
      "2020\n",
      "2025\n",
      "2030\n",
      "2040\n",
      "2045\n",
      "2050\n",
      "2060\n",
      "2070\n",
      "2085\n",
      "2090\n",
      "2110\n",
      "2120\n",
      "2130\n",
      "2140\n",
      "2150\n",
      "2160\n",
      "2170\n",
      "2180\n",
      "2190\n",
      "2210\n",
      "2230\n",
      "2240\n",
      "2260\n",
      "2270\n",
      "2290\n",
      "2300\n",
      "2310\n",
      "2320\n",
      "2330\n"
     ]
    },
    {
     "data": {
      "text/plain": [
       "(1, 30)"
      ]
     },
     "metadata": {},
     "output_type": "display_data"
    },
    {
     "data": {
      "text/plain": [
       "(1, 30)"
      ]
     },
     "metadata": {},
     "output_type": "display_data"
    },
    {
     "ename": "ValueError",
     "evalue": "Unable to coerce to DataFrame, shape must be (0, 39): given (1, 30)",
     "output_type": "error",
     "traceback": [
      "\u001b[0;31m---------------------------------------------------------------------------\u001b[0m",
      "\u001b[0;31mValueError\u001b[0m                                Traceback (most recent call last)",
      "Cell \u001b[0;32mIn[55], line 38\u001b[0m\n\u001b[1;32m     36\u001b[0m display(temp_modified_df\u001b[39m.\u001b[39mshape)\n\u001b[1;32m     37\u001b[0m display(change\u001b[39m.\u001b[39mshape)\n\u001b[0;32m---> 38\u001b[0m next_year \u001b[39m=\u001b[39m temp_mortality_df \u001b[39m+\u001b[39;49m change\n\u001b[1;32m     39\u001b[0m mortality_pred_year[key] \u001b[39m=\u001b[39m next_year\n\u001b[1;32m     41\u001b[0m \u001b[39m# update parameters\u001b[39;00m\n",
      "File \u001b[0;32m/Library/Frameworks/Python.framework/Versions/3.11/lib/python3.11/site-packages/pandas/core/ops/common.py:81\u001b[0m, in \u001b[0;36m_unpack_zerodim_and_defer.<locals>.new_method\u001b[0;34m(self, other)\u001b[0m\n\u001b[1;32m     77\u001b[0m             \u001b[39mreturn\u001b[39;00m \u001b[39mNotImplemented\u001b[39m\n\u001b[1;32m     79\u001b[0m other \u001b[39m=\u001b[39m item_from_zerodim(other)\n\u001b[0;32m---> 81\u001b[0m \u001b[39mreturn\u001b[39;00m method(\u001b[39mself\u001b[39;49m, other)\n",
      "File \u001b[0;32m/Library/Frameworks/Python.framework/Versions/3.11/lib/python3.11/site-packages/pandas/core/arraylike.py:186\u001b[0m, in \u001b[0;36mOpsMixin.__add__\u001b[0;34m(self, other)\u001b[0m\n\u001b[1;32m     98\u001b[0m \u001b[39m@unpack_zerodim_and_defer\u001b[39m(\u001b[39m\"\u001b[39m\u001b[39m__add__\u001b[39m\u001b[39m\"\u001b[39m)\n\u001b[1;32m     99\u001b[0m \u001b[39mdef\u001b[39;00m \u001b[39m__add__\u001b[39m(\u001b[39mself\u001b[39m, other):\n\u001b[1;32m    100\u001b[0m     \u001b[39m\"\"\"\u001b[39;00m\n\u001b[1;32m    101\u001b[0m \u001b[39m    Get Addition of DataFrame and other, column-wise.\u001b[39;00m\n\u001b[1;32m    102\u001b[0m \n\u001b[0;32m   (...)\u001b[0m\n\u001b[1;32m    184\u001b[0m \u001b[39m    moose     3.0     NaN\u001b[39;00m\n\u001b[1;32m    185\u001b[0m \u001b[39m    \"\"\"\u001b[39;00m\n\u001b[0;32m--> 186\u001b[0m     \u001b[39mreturn\u001b[39;00m \u001b[39mself\u001b[39;49m\u001b[39m.\u001b[39;49m_arith_method(other, operator\u001b[39m.\u001b[39;49madd)\n",
      "File \u001b[0;32m/Library/Frameworks/Python.framework/Versions/3.11/lib/python3.11/site-packages/pandas/core/frame.py:7459\u001b[0m, in \u001b[0;36mDataFrame._arith_method\u001b[0;34m(self, other, op)\u001b[0m\n\u001b[1;32m   7456\u001b[0m axis: Literal[\u001b[39m1\u001b[39m] \u001b[39m=\u001b[39m \u001b[39m1\u001b[39m  \u001b[39m# only relevant for Series other case\u001b[39;00m\n\u001b[1;32m   7457\u001b[0m other \u001b[39m=\u001b[39m ops\u001b[39m.\u001b[39mmaybe_prepare_scalar_for_op(other, (\u001b[39mself\u001b[39m\u001b[39m.\u001b[39mshape[axis],))\n\u001b[0;32m-> 7459\u001b[0m \u001b[39mself\u001b[39m, other \u001b[39m=\u001b[39m ops\u001b[39m.\u001b[39;49malign_method_FRAME(\u001b[39mself\u001b[39;49m, other, axis, flex\u001b[39m=\u001b[39;49m\u001b[39mTrue\u001b[39;49;00m, level\u001b[39m=\u001b[39;49m\u001b[39mNone\u001b[39;49;00m)\n\u001b[1;32m   7461\u001b[0m new_data \u001b[39m=\u001b[39m \u001b[39mself\u001b[39m\u001b[39m.\u001b[39m_dispatch_frame_op(other, op, axis\u001b[39m=\u001b[39maxis)\n\u001b[1;32m   7462\u001b[0m \u001b[39mreturn\u001b[39;00m \u001b[39mself\u001b[39m\u001b[39m.\u001b[39m_construct_result(new_data)\n",
      "File \u001b[0;32m/Library/Frameworks/Python.framework/Versions/3.11/lib/python3.11/site-packages/pandas/core/ops/__init__.py:288\u001b[0m, in \u001b[0;36malign_method_FRAME\u001b[0;34m(left, right, axis, flex, level)\u001b[0m\n\u001b[1;32m    285\u001b[0m         right \u001b[39m=\u001b[39m to_series(right[\u001b[39m0\u001b[39m, :])\n\u001b[1;32m    287\u001b[0m     \u001b[39melse\u001b[39;00m:\n\u001b[0;32m--> 288\u001b[0m         \u001b[39mraise\u001b[39;00m \u001b[39mValueError\u001b[39;00m(\n\u001b[1;32m    289\u001b[0m             \u001b[39m\"\u001b[39m\u001b[39mUnable to coerce to DataFrame, shape \u001b[39m\u001b[39m\"\u001b[39m\n\u001b[1;32m    290\u001b[0m             \u001b[39mf\u001b[39m\u001b[39m\"\u001b[39m\u001b[39mmust be \u001b[39m\u001b[39m{\u001b[39;00mleft\u001b[39m.\u001b[39mshape\u001b[39m}\u001b[39;00m\u001b[39m: given \u001b[39m\u001b[39m{\u001b[39;00mright\u001b[39m.\u001b[39mshape\u001b[39m}\u001b[39;00m\u001b[39m\"\u001b[39m\n\u001b[1;32m    291\u001b[0m         )\n\u001b[1;32m    293\u001b[0m \u001b[39melif\u001b[39;00m right\u001b[39m.\u001b[39mndim \u001b[39m>\u001b[39m \u001b[39m2\u001b[39m:\n\u001b[1;32m    294\u001b[0m     \u001b[39mraise\u001b[39;00m \u001b[39mValueError\u001b[39;00m(\n\u001b[1;32m    295\u001b[0m         \u001b[39m\"\u001b[39m\u001b[39mUnable to coerce to Series/DataFrame, \u001b[39m\u001b[39m\"\u001b[39m\n\u001b[1;32m    296\u001b[0m         \u001b[39mf\u001b[39m\u001b[39m\"\u001b[39m\u001b[39mdimension must be <= 2: \u001b[39m\u001b[39m{\u001b[39;00mright\u001b[39m.\u001b[39mshape\u001b[39m}\u001b[39;00m\u001b[39m\"\u001b[39m\n\u001b[1;32m    297\u001b[0m     )\n",
      "\u001b[0;31mValueError\u001b[0m: Unable to coerce to DataFrame, shape must be (0, 39): given (1, 30)"
     ]
    }
   ],
   "source": [
    "final_ending_year = 2050\n",
    "current_year = 2000\n",
    "\n",
    "mortality_pred_all = []\n",
    "while current_year <= final_ending_year:\n",
    "    \n",
    "    mortality_pred_year = {}\n",
    "    \n",
    "    for key in country_code_map: \n",
    "        \n",
    "        print(key)\n",
    "        \n",
    "        # isolate the data to the target data row \\n\",\n",
    "        temp_modified_df = modified_df[(modified_df['Country'] == key)]  \n",
    "        # check if there is real data for this year for this country\\n\",\n",
    "        if current_year <= 2002:\n",
    "            df = temp_modified_df[temp_modified_df['Year'] == current_year + 1]\n",
    "            if not df.empty:\n",
    "                df = df.loc[:, ~df.columns.isin(['Country', 'Year'])].values.astype('float')\n",
    "                mortality_pred_year[key] = df \n",
    "                continue\n",
    " \n",
    "        # clean the data for the row\n",
    "        temp_modified_df = temp_modified_df[temp_modified_df['Year'] == current_year].loc[:, ~temp_modified_df.columns.isin(['Country', 'Year'])].values.astype('float')\n",
    "        # find the aphla, b and k value for the model for future \\n\",\n",
    "        aphla = country_mortality_model[key]['a']\n",
    "        duration = country_mortality_model[key]['d']\n",
    "        m_hat = (temp_modified_df - aphla)\n",
    "        s, u, v = np.linalg.svd(m_hat)\n",
    "        scalar = s[0]\n",
    "        k = scalar * u[0]\n",
    "        b = v[0] / scalar \n",
    "  \n",
    "        # compute the next years result\",\n",
    "        change = np.exp(aphla + b * k)\n",
    "        display(temp_modified_df.shape)\n",
    "        display(change.shape)\n",
    "        next_year = temp_mortality_df + change\n",
    "        mortality_pred_year[key] = next_year\n",
    "        \n",
    "        # update parameters\n",
    "        duration += 1\n",
    "        aphla = (aphla * duration + change) / duration\n",
    "        country_mortality_model[key]['a'] = aphla\n",
    "        country_mortality_model[key]['d'] = duration\n",
    "    \n",
    "    current_year += 1\n",
    "    mortality_pred_all.append(mortality_pred_year)\n",
    "        \n",
    "        \n"
   ]
  },
  {
   "cell_type": "code",
   "execution_count": 60,
   "metadata": {},
   "outputs": [
    {
     "data": {
      "text/plain": [
       "array([[ 2.49300000e+04, -7.49333333e+02, -3.00000000e+02,\n",
       "         0.00000000e+00,  0.00000000e+00,  0.00000000e+00,\n",
       "         6.00000000e+01, -1.22666667e+02,  1.76000000e+02,\n",
       "         1.52666667e+02,  2.39333333e+02, -2.46666667e+01,\n",
       "         1.27333333e+02,  6.80000000e+02,  5.63333333e+02,\n",
       "         2.98533333e+03,  3.17133333e+03,  2.30533333e+03,\n",
       "         1.95666667e+03,  3.72200000e+03,  3.16666667e+03,\n",
       "         4.19800000e+03,  2.62266667e+03,  0.00000000e+00,\n",
       "         0.00000000e+00,  0.00000000e+00, -7.49333333e+02,\n",
       "         0.00000000e+00,  0.00000000e+00,  0.00000000e+00]])"
      ]
     },
     "metadata": {},
     "output_type": "display_data"
    },
    {
     "data": {
      "text/plain": [
       "array([-773286.53820057])"
      ]
     },
     "metadata": {},
     "output_type": "display_data"
    },
    {
     "data": {
      "text/plain": [
       "array([ 0.95610872,  0.11802007,  0.03347013, -0.        , -0.        ,\n",
       "       -0.        ,  0.0123654 ,  0.01235851,  0.01566302,  0.01488883,\n",
       "        0.01266887,  0.01451036,  0.02079264,  0.02703784,  0.04267586,\n",
       "        0.0557732 ,  0.05880183,  0.08362834,  0.09795507,  0.11214472,\n",
       "        0.09051927,  0.06611521,  0.06671955, -0.        , -0.        ,\n",
       "       -0.        ,  0.11802007, -0.        , -0.        , -0.        ])"
      ]
     },
     "metadata": {},
     "output_type": "display_data"
    },
    {
     "data": {
      "text/plain": [
       "array([[764276.,  90514.,  25582.,      0.,      0.,      0.,   9622.,\n",
       "          9434.,  12288.,  11666.,  10036.,  11196.,  16206.,  21588.,\n",
       "         33564.,  46114.,  48642.,  66974.,  77704.,  90442.,  73164.,\n",
       "         55324.,  54216.,      0.,      0.,      0.,  90514.,      0.,\n",
       "             0.,      0.]])"
      ]
     },
     "metadata": {},
     "output_type": "display_data"
    },
    {
     "data": {
      "text/plain": [
       "array([[0., 0., 0., 1., 1., 1., 0., 0., 0., 0., 0., 0., 0., 0., 0., 0.,\n",
       "        0., 0., 0., 0., 0., 0., 0., 1., 1., 1., 0., 1., 1., 1.]])"
      ]
     },
     "metadata": {},
     "output_type": "display_data"
    },
    {
     "data": {
      "text/plain": [
       "(1, 30)"
      ]
     },
     "metadata": {},
     "output_type": "display_data"
    },
    {
     "ename": "ValueError",
     "evalue": "Unable to coerce to DataFrame, shape must be (0, 39): given (1, 30)",
     "output_type": "error",
     "traceback": [
      "\u001b[0;31m---------------------------------------------------------------------------\u001b[0m",
      "\u001b[0;31mValueError\u001b[0m                                Traceback (most recent call last)",
      "Cell \u001b[0;32mIn[60], line 20\u001b[0m\n\u001b[1;32m     18\u001b[0m display(change)\n\u001b[1;32m     19\u001b[0m display(temp_modified_df\u001b[39m.\u001b[39mshape)\n\u001b[0;32m---> 20\u001b[0m next_year \u001b[39m=\u001b[39m temp_mortality_df \u001b[39m+\u001b[39;49m change\n\u001b[1;32m     21\u001b[0m mortality_pred_year[key] \u001b[39m=\u001b[39m next_year\n",
      "File \u001b[0;32m/Library/Frameworks/Python.framework/Versions/3.11/lib/python3.11/site-packages/pandas/core/ops/common.py:81\u001b[0m, in \u001b[0;36m_unpack_zerodim_and_defer.<locals>.new_method\u001b[0;34m(self, other)\u001b[0m\n\u001b[1;32m     77\u001b[0m             \u001b[39mreturn\u001b[39;00m \u001b[39mNotImplemented\u001b[39m\n\u001b[1;32m     79\u001b[0m other \u001b[39m=\u001b[39m item_from_zerodim(other)\n\u001b[0;32m---> 81\u001b[0m \u001b[39mreturn\u001b[39;00m method(\u001b[39mself\u001b[39;49m, other)\n",
      "File \u001b[0;32m/Library/Frameworks/Python.framework/Versions/3.11/lib/python3.11/site-packages/pandas/core/arraylike.py:186\u001b[0m, in \u001b[0;36mOpsMixin.__add__\u001b[0;34m(self, other)\u001b[0m\n\u001b[1;32m     98\u001b[0m \u001b[39m@unpack_zerodim_and_defer\u001b[39m(\u001b[39m\"\u001b[39m\u001b[39m__add__\u001b[39m\u001b[39m\"\u001b[39m)\n\u001b[1;32m     99\u001b[0m \u001b[39mdef\u001b[39;00m \u001b[39m__add__\u001b[39m(\u001b[39mself\u001b[39m, other):\n\u001b[1;32m    100\u001b[0m     \u001b[39m\"\"\"\u001b[39;00m\n\u001b[1;32m    101\u001b[0m \u001b[39m    Get Addition of DataFrame and other, column-wise.\u001b[39;00m\n\u001b[1;32m    102\u001b[0m \n\u001b[0;32m   (...)\u001b[0m\n\u001b[1;32m    184\u001b[0m \u001b[39m    moose     3.0     NaN\u001b[39;00m\n\u001b[1;32m    185\u001b[0m \u001b[39m    \"\"\"\u001b[39;00m\n\u001b[0;32m--> 186\u001b[0m     \u001b[39mreturn\u001b[39;00m \u001b[39mself\u001b[39;49m\u001b[39m.\u001b[39;49m_arith_method(other, operator\u001b[39m.\u001b[39;49madd)\n",
      "File \u001b[0;32m/Library/Frameworks/Python.framework/Versions/3.11/lib/python3.11/site-packages/pandas/core/frame.py:7459\u001b[0m, in \u001b[0;36mDataFrame._arith_method\u001b[0;34m(self, other, op)\u001b[0m\n\u001b[1;32m   7456\u001b[0m axis: Literal[\u001b[39m1\u001b[39m] \u001b[39m=\u001b[39m \u001b[39m1\u001b[39m  \u001b[39m# only relevant for Series other case\u001b[39;00m\n\u001b[1;32m   7457\u001b[0m other \u001b[39m=\u001b[39m ops\u001b[39m.\u001b[39mmaybe_prepare_scalar_for_op(other, (\u001b[39mself\u001b[39m\u001b[39m.\u001b[39mshape[axis],))\n\u001b[0;32m-> 7459\u001b[0m \u001b[39mself\u001b[39m, other \u001b[39m=\u001b[39m ops\u001b[39m.\u001b[39;49malign_method_FRAME(\u001b[39mself\u001b[39;49m, other, axis, flex\u001b[39m=\u001b[39;49m\u001b[39mTrue\u001b[39;49;00m, level\u001b[39m=\u001b[39;49m\u001b[39mNone\u001b[39;49;00m)\n\u001b[1;32m   7461\u001b[0m new_data \u001b[39m=\u001b[39m \u001b[39mself\u001b[39m\u001b[39m.\u001b[39m_dispatch_frame_op(other, op, axis\u001b[39m=\u001b[39maxis)\n\u001b[1;32m   7462\u001b[0m \u001b[39mreturn\u001b[39;00m \u001b[39mself\u001b[39m\u001b[39m.\u001b[39m_construct_result(new_data)\n",
      "File \u001b[0;32m/Library/Frameworks/Python.framework/Versions/3.11/lib/python3.11/site-packages/pandas/core/ops/__init__.py:288\u001b[0m, in \u001b[0;36malign_method_FRAME\u001b[0;34m(left, right, axis, flex, level)\u001b[0m\n\u001b[1;32m    285\u001b[0m         right \u001b[39m=\u001b[39m to_series(right[\u001b[39m0\u001b[39m, :])\n\u001b[1;32m    287\u001b[0m     \u001b[39melse\u001b[39;00m:\n\u001b[0;32m--> 288\u001b[0m         \u001b[39mraise\u001b[39;00m \u001b[39mValueError\u001b[39;00m(\n\u001b[1;32m    289\u001b[0m             \u001b[39m\"\u001b[39m\u001b[39mUnable to coerce to DataFrame, shape \u001b[39m\u001b[39m\"\u001b[39m\n\u001b[1;32m    290\u001b[0m             \u001b[39mf\u001b[39m\u001b[39m\"\u001b[39m\u001b[39mmust be \u001b[39m\u001b[39m{\u001b[39;00mleft\u001b[39m.\u001b[39mshape\u001b[39m}\u001b[39;00m\u001b[39m: given \u001b[39m\u001b[39m{\u001b[39;00mright\u001b[39m.\u001b[39mshape\u001b[39m}\u001b[39;00m\u001b[39m\"\u001b[39m\n\u001b[1;32m    291\u001b[0m         )\n\u001b[1;32m    293\u001b[0m \u001b[39melif\u001b[39;00m right\u001b[39m.\u001b[39mndim \u001b[39m>\u001b[39m \u001b[39m2\u001b[39m:\n\u001b[1;32m    294\u001b[0m     \u001b[39mraise\u001b[39;00m \u001b[39mValueError\u001b[39;00m(\n\u001b[1;32m    295\u001b[0m         \u001b[39m\"\u001b[39m\u001b[39mUnable to coerce to Series/DataFrame, \u001b[39m\u001b[39m\"\u001b[39m\n\u001b[1;32m    296\u001b[0m         \u001b[39mf\u001b[39m\u001b[39m\"\u001b[39m\u001b[39mdimension must be <= 2: \u001b[39m\u001b[39m{\u001b[39;00mright\u001b[39m.\u001b[39mshape\u001b[39m}\u001b[39;00m\u001b[39m\"\u001b[39m\n\u001b[1;32m    297\u001b[0m     )\n",
      "\u001b[0;31mValueError\u001b[0m: Unable to coerce to DataFrame, shape must be (0, 39): given (1, 30)"
     ]
    }
   ],
   "source": [
    "key = 1125\n",
    "temp_modified_df = modified_df[(modified_df['Country'] == key)]  \n",
    "# clean the data for the row\n",
    "temp_modified_df = temp_modified_df[temp_modified_df['Year'] == current_year].loc[:, ~temp_modified_df.columns.isin(['Country', 'Year'])].values.astype('float')\n",
    "# find the aphla, b and k value for the model for future \\n\",\n",
    "aphla = country_mortality_model[key]['a']\n",
    "duration = country_mortality_model[key]['d']\n",
    "m_hat = (temp_modified_df - aphla)\n",
    "s, u, v = np.linalg.svd(m_hat)\n",
    "scalar = s[0]\n",
    "k = scalar * u[0]\n",
    "b = v[0] / scalar \n",
    "\n",
    "display(aphla)\n",
    "display(k, b)\n",
    "change = np.exp(aphla + b * k)\n",
    "display(temp_modified_df)\n",
    "display(change)\n",
    "display(temp_modified_df.shape)\n",
    "next_year = temp_mortality_df + change\n",
    "mortality_pred_year[key] = next_year"
   ]
  }
 ],
 "metadata": {
  "kernelspec": {
   "display_name": "Python 3.11.0 64-bit",
   "language": "python",
   "name": "python3"
  },
  "language_info": {
   "codemirror_mode": {
    "name": "ipython",
    "version": 3
   },
   "file_extension": ".py",
   "mimetype": "text/x-python",
   "name": "python",
   "nbconvert_exporter": "python",
   "pygments_lexer": "ipython3",
   "version": "3.11.0"
  },
  "orig_nbformat": 4,
  "vscode": {
   "interpreter": {
    "hash": "aee8b7b246df8f9039afb4144a1f6fd8d2ca17a180786b69acc140d282b71a49"
   }
  }
 },
 "nbformat": 4,
 "nbformat_minor": 2
}
