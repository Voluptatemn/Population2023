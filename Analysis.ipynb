{
 "cells": [
  {
   "cell_type": "code",
   "execution_count": 91,
   "metadata": {},
   "outputs": [],
   "source": [
    "# import library\n",
    "import pandas as pd\n",
    "import numpy as np \n",
    "import matlab \n",
    "import matplotlib as plt\n",
    "import os\n",
    "import numpy as np\n"
   ]
  },
  {
   "cell_type": "code",
   "execution_count": 92,
   "metadata": {},
   "outputs": [],
   "source": [
    "# read the file\n",
    "# mortality\n",
    "zipped = True\n",
    "if zipped:\n",
    "    mdf_path = r'data\\mdf_final.csv'\n",
    "    mdf = pd.read_csv(mdf_path, low_memory=False)\n",
    "    mdf = mdf.drop(columns='Unnamed: 0')\n",
    "else:\n",
    "    mortality_path_7 = r'data/MortIcd7.csv'\n",
    "    mortality_data_7 = pd.read_csv(mortality_path_7, low_memory=False)\n",
    "\n",
    "    mortality_path_8 = r'data/MortIcd8.csv'\n",
    "    mortality_data_8 = pd.read_csv(mortality_path_8, low_memory=False)\n",
    "\n",
    "    mortality_path_9 = r'data/Morticd9.csv'\n",
    "    mortality_data_9 = pd.read_csv(mortality_path_9, low_memory=False)\n",
    "\n",
    "    mortality_path_2002 = r'data/Morticd10_part1.csv'\n",
    "    mortality_data_2002 = pd.read_csv(mortality_path_2002, low_memory=False)\n",
    "\n",
    "    mortality_path_2007 = r'data/Morticd10_part2.csv'\n",
    "    mortality_data_2007 = pd.read_csv(mortality_path_2007, low_memory=False)\n",
    "\n",
    "    mortality_path_2012 = r'data/Morticd10_part3.csv'\n",
    "    mortality_data_2012 = pd.read_csv(mortality_path_2012, low_memory=False)\n",
    "\n",
    "    mortality_path_2016 = r'data/Morticd10_part4.csv'\n",
    "    mortality_data_2016 = pd.read_csv(mortality_path_2016, low_memory=False)\n",
    "\n",
    "    mdf = pd.concat([mortality_data_7, mortality_data_8, mortality_data_9, mortality_data_2002, mortality_data_2007, mortality_data_2012, mortality_data_2016], ignore_index=True)\n",
    "\n",
    "# population\n",
    "pop_path = r'data/pop.csv'\n",
    "pdf = pd.read_csv(pop_path, low_memory=False)\n",
    "\n",
    "# country code\n",
    "country_code_path = r'data/country_codes.csv'\n",
    "country_code = pd.read_csv(country_code_path, low_memory=False)\n",
    "# creating the country code map \n",
    "country_code_map = {}\n",
    "for index, rows in country_code.iterrows():\n",
    "    country_code_map[rows['country']] = rows['name']"
   ]
  },
  {
   "cell_type": "code",
   "execution_count": 93,
   "metadata": {},
   "outputs": [],
   "source": [
    "# working, deleted the not useful columns\n",
    "dropped = True\n",
    "if not dropped:\n",
    "    undesired_mortality_columns = ['Admin1', 'SubDiv', 'Sex', 'List', 'Frmat', 'IM_Frmat', 'Cause', 'IM_Deaths1','IM_Deaths2', 'IM_Deaths3', 'IM_Deaths4'] \n",
    "    undesired_population_columns = ['Admin1', 'SubDiv', 'Sex', 'Frmat'] \n",
    "    mdf = mdf.drop(columns = undesired_mortality_columns)\n",
    "    pdf = pdf.drop(columns = undesired_population_columns)"
   ]
  },
  {
   "cell_type": "code",
   "execution_count": 94,
   "metadata": {},
   "outputs": [],
   "source": [
    "# needs to swap out the nah columns into averages \n",
    "done = True\n",
    "if not done:\n",
    "    not_used_country_list = []\n",
    "    country_num_count = 0\n",
    "    not_useful = False\n",
    "    for key in country_code_map:\n",
    "        country_num_count += 1\n",
    "        display(country_num_count / len(country_code_map))\n",
    "        country_mdf = mdf[mdf['Country'] == key]\n",
    "        \n",
    "        if country_mdf.empty:\n",
    "            not_used_country_list.append(key)\n",
    "        \n",
    "        else:\n",
    "            min_year = int(country_mdf['Year'].min())\n",
    "            max_year = int(country_mdf['Year'].max()) \n",
    "            for i in range (min_year, max_year + 1):\n",
    "                \n",
    "                if not_useful:\n",
    "                    break\n",
    "                \n",
    "                mask = (mdf['Country'] == key) & (mdf['Year'] == i)\n",
    "                curr_Year = i\n",
    "\n",
    "                for c in mdf.columns.values:\n",
    "                    \n",
    "                    if not_useful:\n",
    "                        break\n",
    "                    \n",
    "                    average = mdf.loc[mask, c].mean()   \n",
    "                    \n",
    "                    max_iter = max_year - curr_Year\n",
    "                    count = 0 \n",
    "                    while np.isnan(average):\n",
    "                        curr_Year += 1\n",
    "                        count += 1\n",
    "                        mask_alt = (mdf['Country'] == key) & (mdf['Year'] == curr_Year) \n",
    "                        average = mdf.loc[mask_alt, c].mean()   \n",
    "                        \n",
    "                        if count > max_iter:\n",
    "                            not_useful = True\n",
    "                            break \n",
    "                        \n",
    "                        \n",
    "                    mdf.loc[mask, c] = mdf.loc[mask, c].fillna(average)\n",
    "                    curr_Year = i \n",
    "                    \n",
    "            if not_useful:\n",
    "                display(key)\n",
    "                not_used_country_list.append(key)\n",
    "                index = mdf[mdf['Country'] == key].index\n",
    "                mdf = mdf.drop(index)\n",
    "                not_useful = False\n",
    "                \n",
    "    undesired_mortality_columns = ['Admin1', 'SubDiv', 'Sex', 'List', 'Frmat', 'IM_Frmat', 'Cause', 'IM_Deaths1','IM_Deaths2', 'IM_Deaths3', 'IM_Deaths4'] \n",
    "    mdf = mdf.drop(columns = undesired_mortality_columns)            \n",
    "    mdf = mdf.groupby(['Country', 'Year'], as_index=True).agg(\"sum\").reset_index()\n",
    "    mdf.to_csv(r'data/mdf_final.csv')\n",
    "            \n",
    "\n",
    "        "
   ]
  },
  {
   "cell_type": "code",
   "execution_count": 96,
   "metadata": {},
   "outputs": [
    {
     "data": {
      "text/plain": [
       "Country       0\n",
       "Admin1     9917\n",
       "SubDiv     9857\n",
       "Year          0\n",
       "Sex           0\n",
       "Frmat         0\n",
       "Pop1          0\n",
       "Pop2        136\n",
       "Pop3        136\n",
       "Pop4       4255\n",
       "Pop5       4255\n",
       "Pop6       4255\n",
       "Pop7        136\n",
       "Pop8        154\n",
       "Pop9        136\n",
       "Pop10       154\n",
       "Pop11       136\n",
       "Pop12       154\n",
       "Pop13       136\n",
       "Pop14       154\n",
       "Pop15       136\n",
       "Pop16       154\n",
       "Pop17       136\n",
       "Pop18       154\n",
       "Pop19       136\n",
       "Pop20       198\n",
       "Pop21       292\n",
       "Pop22      1206\n",
       "Pop23      1206\n",
       "Pop24      8468\n",
       "Pop25      8468\n",
       "Pop26       154\n",
       "Lb          316\n",
       "dtype: int64"
      ]
     },
     "execution_count": 96,
     "metadata": {},
     "output_type": "execute_result"
    }
   ],
   "source": [
    "pdf.isnull().sum()"
   ]
  },
  {
   "cell_type": "code",
   "execution_count": 98,
   "metadata": {},
   "outputs": [
    {
     "data": {
      "text/html": [
       "<div>\n",
       "<style scoped>\n",
       "    .dataframe tbody tr th:only-of-type {\n",
       "        vertical-align: middle;\n",
       "    }\n",
       "\n",
       "    .dataframe tbody tr th {\n",
       "        vertical-align: top;\n",
       "    }\n",
       "\n",
       "    .dataframe thead th {\n",
       "        text-align: right;\n",
       "    }\n",
       "</style>\n",
       "<table border=\"1\" class=\"dataframe\">\n",
       "  <thead>\n",
       "    <tr style=\"text-align: right;\">\n",
       "      <th></th>\n",
       "      <th>Country</th>\n",
       "      <th>Year</th>\n",
       "      <th>Pop1</th>\n",
       "      <th>Pop2</th>\n",
       "      <th>Pop3</th>\n",
       "      <th>Pop4</th>\n",
       "      <th>Pop5</th>\n",
       "      <th>Pop6</th>\n",
       "      <th>Pop7</th>\n",
       "      <th>Pop8</th>\n",
       "      <th>...</th>\n",
       "      <th>Pop18</th>\n",
       "      <th>Pop19</th>\n",
       "      <th>Pop20</th>\n",
       "      <th>Pop21</th>\n",
       "      <th>Pop22</th>\n",
       "      <th>Pop23</th>\n",
       "      <th>Pop24</th>\n",
       "      <th>Pop25</th>\n",
       "      <th>Pop26</th>\n",
       "      <th>Lb</th>\n",
       "    </tr>\n",
       "  </thead>\n",
       "  <tbody>\n",
       "    <tr>\n",
       "      <th>0</th>\n",
       "      <td>1060</td>\n",
       "      <td>1980</td>\n",
       "      <td>137100.0</td>\n",
       "      <td>3400.0</td>\n",
       "      <td>15800.0</td>\n",
       "      <td>NaN</td>\n",
       "      <td>NaN</td>\n",
       "      <td>NaN</td>\n",
       "      <td>39200.0</td>\n",
       "      <td>NaN</td>\n",
       "      <td>...</td>\n",
       "      <td>NaN</td>\n",
       "      <td>5300.0</td>\n",
       "      <td>NaN</td>\n",
       "      <td>2900.0</td>\n",
       "      <td>NaN</td>\n",
       "      <td>NaN</td>\n",
       "      <td>NaN</td>\n",
       "      <td>NaN</td>\n",
       "      <td>6500.0</td>\n",
       "      <td>5000.0</td>\n",
       "    </tr>\n",
       "    <tr>\n",
       "      <th>1</th>\n",
       "      <td>1060</td>\n",
       "      <td>1980</td>\n",
       "      <td>159000.0</td>\n",
       "      <td>4000.0</td>\n",
       "      <td>18400.0</td>\n",
       "      <td>NaN</td>\n",
       "      <td>NaN</td>\n",
       "      <td>NaN</td>\n",
       "      <td>45400.0</td>\n",
       "      <td>NaN</td>\n",
       "      <td>...</td>\n",
       "      <td>NaN</td>\n",
       "      <td>6200.0</td>\n",
       "      <td>NaN</td>\n",
       "      <td>3400.0</td>\n",
       "      <td>NaN</td>\n",
       "      <td>NaN</td>\n",
       "      <td>NaN</td>\n",
       "      <td>NaN</td>\n",
       "      <td>7500.0</td>\n",
       "      <td>6000.0</td>\n",
       "    </tr>\n",
       "    <tr>\n",
       "      <th>2</th>\n",
       "      <td>1125</td>\n",
       "      <td>1955</td>\n",
       "      <td>5051500.0</td>\n",
       "      <td>150300.0</td>\n",
       "      <td>543400.0</td>\n",
       "      <td>NaN</td>\n",
       "      <td>NaN</td>\n",
       "      <td>NaN</td>\n",
       "      <td>615300.0</td>\n",
       "      <td>603000.0</td>\n",
       "      <td>...</td>\n",
       "      <td>110200.0</td>\n",
       "      <td>51100.0</td>\n",
       "      <td>41600.0</td>\n",
       "      <td>14300.0</td>\n",
       "      <td>11800.0</td>\n",
       "      <td>25300.0</td>\n",
       "      <td>NaN</td>\n",
       "      <td>NaN</td>\n",
       "      <td>0.0</td>\n",
       "      <td>253329.0</td>\n",
       "    </tr>\n",
       "    <tr>\n",
       "      <th>3</th>\n",
       "      <td>1125</td>\n",
       "      <td>1955</td>\n",
       "      <td>5049400.0</td>\n",
       "      <td>145200.0</td>\n",
       "      <td>551000.0</td>\n",
       "      <td>NaN</td>\n",
       "      <td>NaN</td>\n",
       "      <td>NaN</td>\n",
       "      <td>613400.0</td>\n",
       "      <td>600700.0</td>\n",
       "      <td>...</td>\n",
       "      <td>122100.0</td>\n",
       "      <td>51100.0</td>\n",
       "      <td>50700.0</td>\n",
       "      <td>15800.0</td>\n",
       "      <td>18000.0</td>\n",
       "      <td>28500.0</td>\n",
       "      <td>NaN</td>\n",
       "      <td>NaN</td>\n",
       "      <td>0.0</td>\n",
       "      <td>237901.0</td>\n",
       "    </tr>\n",
       "    <tr>\n",
       "      <th>4</th>\n",
       "      <td>1125</td>\n",
       "      <td>1956</td>\n",
       "      <td>5353700.0</td>\n",
       "      <td>158700.0</td>\n",
       "      <td>576600.0</td>\n",
       "      <td>NaN</td>\n",
       "      <td>NaN</td>\n",
       "      <td>NaN</td>\n",
       "      <td>653000.0</td>\n",
       "      <td>639400.0</td>\n",
       "      <td>...</td>\n",
       "      <td>116900.0</td>\n",
       "      <td>54100.0</td>\n",
       "      <td>44000.0</td>\n",
       "      <td>14900.0</td>\n",
       "      <td>12400.0</td>\n",
       "      <td>26600.0</td>\n",
       "      <td>NaN</td>\n",
       "      <td>NaN</td>\n",
       "      <td>0.0</td>\n",
       "      <td>250022.0</td>\n",
       "    </tr>\n",
       "    <tr>\n",
       "      <th>...</th>\n",
       "      <td>...</td>\n",
       "      <td>...</td>\n",
       "      <td>...</td>\n",
       "      <td>...</td>\n",
       "      <td>...</td>\n",
       "      <td>...</td>\n",
       "      <td>...</td>\n",
       "      <td>...</td>\n",
       "      <td>...</td>\n",
       "      <td>...</td>\n",
       "      <td>...</td>\n",
       "      <td>...</td>\n",
       "      <td>...</td>\n",
       "      <td>...</td>\n",
       "      <td>...</td>\n",
       "      <td>...</td>\n",
       "      <td>...</td>\n",
       "      <td>...</td>\n",
       "      <td>...</td>\n",
       "      <td>...</td>\n",
       "      <td>...</td>\n",
       "    </tr>\n",
       "    <tr>\n",
       "      <th>9994</th>\n",
       "      <td>4140</td>\n",
       "      <td>2020</td>\n",
       "      <td>5492836.0</td>\n",
       "      <td>41382.0</td>\n",
       "      <td>42532.0</td>\n",
       "      <td>44452.0</td>\n",
       "      <td>46788.0</td>\n",
       "      <td>47730.0</td>\n",
       "      <td>245927.0</td>\n",
       "      <td>269859.0</td>\n",
       "      <td>...</td>\n",
       "      <td>364453.0</td>\n",
       "      <td>325056.0</td>\n",
       "      <td>308424.0</td>\n",
       "      <td>243412.0</td>\n",
       "      <td>229435.0</td>\n",
       "      <td>147031.0</td>\n",
       "      <td>58083.0</td>\n",
       "      <td>20861.0</td>\n",
       "      <td>0.0</td>\n",
       "      <td>41233.0</td>\n",
       "    </tr>\n",
       "    <tr>\n",
       "      <th>9995</th>\n",
       "      <td>4190</td>\n",
       "      <td>2021</td>\n",
       "      <td>322260.0</td>\n",
       "      <td>3357.0</td>\n",
       "      <td>3352.0</td>\n",
       "      <td>3392.0</td>\n",
       "      <td>3477.0</td>\n",
       "      <td>3454.0</td>\n",
       "      <td>17706.0</td>\n",
       "      <td>17410.0</td>\n",
       "      <td>...</td>\n",
       "      <td>18385.0</td>\n",
       "      <td>14120.0</td>\n",
       "      <td>11255.0</td>\n",
       "      <td>7803.0</td>\n",
       "      <td>5293.0</td>\n",
       "      <td>2879.0</td>\n",
       "      <td>1144.0</td>\n",
       "      <td>164.0</td>\n",
       "      <td>0.0</td>\n",
       "      <td>3417.0</td>\n",
       "    </tr>\n",
       "    <tr>\n",
       "      <th>9996</th>\n",
       "      <td>4190</td>\n",
       "      <td>2021</td>\n",
       "      <td>317804.0</td>\n",
       "      <td>3224.0</td>\n",
       "      <td>3269.0</td>\n",
       "      <td>3323.0</td>\n",
       "      <td>3307.0</td>\n",
       "      <td>3338.0</td>\n",
       "      <td>16810.0</td>\n",
       "      <td>16619.0</td>\n",
       "      <td>...</td>\n",
       "      <td>17758.0</td>\n",
       "      <td>14607.0</td>\n",
       "      <td>11935.0</td>\n",
       "      <td>8984.0</td>\n",
       "      <td>7502.0</td>\n",
       "      <td>4996.0</td>\n",
       "      <td>2549.0</td>\n",
       "      <td>740.0</td>\n",
       "      <td>0.0</td>\n",
       "      <td>3273.0</td>\n",
       "    </tr>\n",
       "    <tr>\n",
       "      <th>9997</th>\n",
       "      <td>4182</td>\n",
       "      <td>2021</td>\n",
       "      <td>9224590.0</td>\n",
       "      <td>223552.0</td>\n",
       "      <td>212137.0</td>\n",
       "      <td>204028.0</td>\n",
       "      <td>200720.0</td>\n",
       "      <td>201373.0</td>\n",
       "      <td>982270.0</td>\n",
       "      <td>857617.0</td>\n",
       "      <td>...</td>\n",
       "      <td>375734.0</td>\n",
       "      <td>241436.0</td>\n",
       "      <td>149026.0</td>\n",
       "      <td>60581.0</td>\n",
       "      <td>57026.0</td>\n",
       "      <td>17029.0</td>\n",
       "      <td>5915.0</td>\n",
       "      <td>3983.0</td>\n",
       "      <td>0.0</td>\n",
       "      <td>230272.0</td>\n",
       "    </tr>\n",
       "    <tr>\n",
       "      <th>9998</th>\n",
       "      <td>4182</td>\n",
       "      <td>2021</td>\n",
       "      <td>9778230.0</td>\n",
       "      <td>209539.0</td>\n",
       "      <td>198449.0</td>\n",
       "      <td>191452.0</td>\n",
       "      <td>188400.0</td>\n",
       "      <td>188487.0</td>\n",
       "      <td>927108.0</td>\n",
       "      <td>811696.0</td>\n",
       "      <td>...</td>\n",
       "      <td>486204.0</td>\n",
       "      <td>361664.0</td>\n",
       "      <td>263406.0</td>\n",
       "      <td>122881.0</td>\n",
       "      <td>141863.0</td>\n",
       "      <td>47320.0</td>\n",
       "      <td>15747.0</td>\n",
       "      <td>4674.0</td>\n",
       "      <td>0.0</td>\n",
       "      <td>216219.0</td>\n",
       "    </tr>\n",
       "  </tbody>\n",
       "</table>\n",
       "<p>9999 rows × 29 columns</p>\n",
       "</div>"
      ],
      "text/plain": [
       "      Country  Year       Pop1      Pop2      Pop3      Pop4      Pop5   \n",
       "0        1060  1980   137100.0    3400.0   15800.0       NaN       NaN  \\\n",
       "1        1060  1980   159000.0    4000.0   18400.0       NaN       NaN   \n",
       "2        1125  1955  5051500.0  150300.0  543400.0       NaN       NaN   \n",
       "3        1125  1955  5049400.0  145200.0  551000.0       NaN       NaN   \n",
       "4        1125  1956  5353700.0  158700.0  576600.0       NaN       NaN   \n",
       "...       ...   ...        ...       ...       ...       ...       ...   \n",
       "9994     4140  2020  5492836.0   41382.0   42532.0   44452.0   46788.0   \n",
       "9995     4190  2021   322260.0    3357.0    3352.0    3392.0    3477.0   \n",
       "9996     4190  2021   317804.0    3224.0    3269.0    3323.0    3307.0   \n",
       "9997     4182  2021  9224590.0  223552.0  212137.0  204028.0  200720.0   \n",
       "9998     4182  2021  9778230.0  209539.0  198449.0  191452.0  188400.0   \n",
       "\n",
       "          Pop6      Pop7      Pop8  ...     Pop18     Pop19     Pop20   \n",
       "0          NaN   39200.0       NaN  ...       NaN    5300.0       NaN  \\\n",
       "1          NaN   45400.0       NaN  ...       NaN    6200.0       NaN   \n",
       "2          NaN  615300.0  603000.0  ...  110200.0   51100.0   41600.0   \n",
       "3          NaN  613400.0  600700.0  ...  122100.0   51100.0   50700.0   \n",
       "4          NaN  653000.0  639400.0  ...  116900.0   54100.0   44000.0   \n",
       "...        ...       ...       ...  ...       ...       ...       ...   \n",
       "9994   47730.0  245927.0  269859.0  ...  364453.0  325056.0  308424.0   \n",
       "9995    3454.0   17706.0   17410.0  ...   18385.0   14120.0   11255.0   \n",
       "9996    3338.0   16810.0   16619.0  ...   17758.0   14607.0   11935.0   \n",
       "9997  201373.0  982270.0  857617.0  ...  375734.0  241436.0  149026.0   \n",
       "9998  188487.0  927108.0  811696.0  ...  486204.0  361664.0  263406.0   \n",
       "\n",
       "         Pop21     Pop22     Pop23    Pop24    Pop25   Pop26        Lb  \n",
       "0       2900.0       NaN       NaN      NaN      NaN  6500.0    5000.0  \n",
       "1       3400.0       NaN       NaN      NaN      NaN  7500.0    6000.0  \n",
       "2      14300.0   11800.0   25300.0      NaN      NaN     0.0  253329.0  \n",
       "3      15800.0   18000.0   28500.0      NaN      NaN     0.0  237901.0  \n",
       "4      14900.0   12400.0   26600.0      NaN      NaN     0.0  250022.0  \n",
       "...        ...       ...       ...      ...      ...     ...       ...  \n",
       "9994  243412.0  229435.0  147031.0  58083.0  20861.0     0.0   41233.0  \n",
       "9995    7803.0    5293.0    2879.0   1144.0    164.0     0.0    3417.0  \n",
       "9996    8984.0    7502.0    4996.0   2549.0    740.0     0.0    3273.0  \n",
       "9997   60581.0   57026.0   17029.0   5915.0   3983.0     0.0  230272.0  \n",
       "9998  122881.0  141863.0   47320.0  15747.0   4674.0     0.0  216219.0  \n",
       "\n",
       "[9999 rows x 29 columns]"
      ]
     },
     "execution_count": 98,
     "metadata": {},
     "output_type": "execute_result"
    }
   ],
   "source": [
    "dropped = True\n",
    "if not dropped:\n",
    "    undesired_population_columns = ['Admin1', 'SubDiv', 'Sex', 'Frmat'] \n",
    "    pdf = pdf.drop(columns = undesired_population_columns)\n",
    "pdf"
   ]
  },
  {
   "cell_type": "code",
   "execution_count": 99,
   "metadata": {},
   "outputs": [
    {
     "data": {
      "text/plain": [
       "103"
      ]
     },
     "execution_count": 99,
     "metadata": {},
     "output_type": "execute_result"
    }
   ],
   "source": [
    "country_list = list(set(mdf['Country']))\n",
    "country_list.sort()\n",
    "len(country_list) "
   ]
  },
  {
   "cell_type": "code",
   "execution_count": 88,
   "metadata": {},
   "outputs": [
    {
     "data": {
      "text/html": [
       "<div>\n",
       "<style scoped>\n",
       "    .dataframe tbody tr th:only-of-type {\n",
       "        vertical-align: middle;\n",
       "    }\n",
       "\n",
       "    .dataframe tbody tr th {\n",
       "        vertical-align: top;\n",
       "    }\n",
       "\n",
       "    .dataframe thead th {\n",
       "        text-align: right;\n",
       "    }\n",
       "</style>\n",
       "<table border=\"1\" class=\"dataframe\">\n",
       "  <thead>\n",
       "    <tr style=\"text-align: right;\">\n",
       "      <th></th>\n",
       "      <th>Country</th>\n",
       "      <th>Admin1</th>\n",
       "      <th>SubDiv</th>\n",
       "      <th>Year</th>\n",
       "      <th>Sex</th>\n",
       "      <th>Frmat</th>\n",
       "      <th>Pop1</th>\n",
       "      <th>Pop2</th>\n",
       "      <th>Pop3</th>\n",
       "      <th>Pop4</th>\n",
       "      <th>...</th>\n",
       "      <th>Pop18</th>\n",
       "      <th>Pop19</th>\n",
       "      <th>Pop20</th>\n",
       "      <th>Pop21</th>\n",
       "      <th>Pop22</th>\n",
       "      <th>Pop23</th>\n",
       "      <th>Pop24</th>\n",
       "      <th>Pop25</th>\n",
       "      <th>Pop26</th>\n",
       "      <th>Lb</th>\n",
       "    </tr>\n",
       "  </thead>\n",
       "  <tbody>\n",
       "    <tr>\n",
       "      <th>0</th>\n",
       "      <td>1060</td>\n",
       "      <td>NaN</td>\n",
       "      <td>NaN</td>\n",
       "      <td>1980</td>\n",
       "      <td>1</td>\n",
       "      <td>7</td>\n",
       "      <td>137100.0</td>\n",
       "      <td>3400.0</td>\n",
       "      <td>15800.0</td>\n",
       "      <td>NaN</td>\n",
       "      <td>...</td>\n",
       "      <td>NaN</td>\n",
       "      <td>5300.0</td>\n",
       "      <td>NaN</td>\n",
       "      <td>2900.0</td>\n",
       "      <td>NaN</td>\n",
       "      <td>NaN</td>\n",
       "      <td>NaN</td>\n",
       "      <td>NaN</td>\n",
       "      <td>6500.0</td>\n",
       "      <td>5000.0</td>\n",
       "    </tr>\n",
       "    <tr>\n",
       "      <th>1</th>\n",
       "      <td>1060</td>\n",
       "      <td>NaN</td>\n",
       "      <td>NaN</td>\n",
       "      <td>1980</td>\n",
       "      <td>2</td>\n",
       "      <td>7</td>\n",
       "      <td>159000.0</td>\n",
       "      <td>4000.0</td>\n",
       "      <td>18400.0</td>\n",
       "      <td>NaN</td>\n",
       "      <td>...</td>\n",
       "      <td>NaN</td>\n",
       "      <td>6200.0</td>\n",
       "      <td>NaN</td>\n",
       "      <td>3400.0</td>\n",
       "      <td>NaN</td>\n",
       "      <td>NaN</td>\n",
       "      <td>NaN</td>\n",
       "      <td>NaN</td>\n",
       "      <td>7500.0</td>\n",
       "      <td>6000.0</td>\n",
       "    </tr>\n",
       "  </tbody>\n",
       "</table>\n",
       "<p>2 rows × 33 columns</p>\n",
       "</div>"
      ],
      "text/plain": [
       "   Country  Admin1 SubDiv  Year  Sex  Frmat      Pop1    Pop2     Pop3  Pop4   \n",
       "0     1060     NaN    NaN  1980    1      7  137100.0  3400.0  15800.0   NaN  \\\n",
       "1     1060     NaN    NaN  1980    2      7  159000.0  4000.0  18400.0   NaN   \n",
       "\n",
       "   ...  Pop18   Pop19  Pop20   Pop21  Pop22  Pop23  Pop24  Pop25   Pop26   \n",
       "0  ...    NaN  5300.0    NaN  2900.0    NaN    NaN    NaN    NaN  6500.0  \\\n",
       "1  ...    NaN  6200.0    NaN  3400.0    NaN    NaN    NaN    NaN  7500.0   \n",
       "\n",
       "       Lb  \n",
       "0  5000.0  \n",
       "1  6000.0  \n",
       "\n",
       "[2 rows x 33 columns]"
      ]
     },
     "metadata": {},
     "output_type": "display_data"
    },
    {
     "data": {
      "text/plain": [
       "32"
      ]
     },
     "execution_count": 88,
     "metadata": {},
     "output_type": "execute_result"
    }
   ],
   "source": [
    "key = 1060\n",
    "country_pdf = pdf[pdf['Country'] == key]\n",
    "display(country_pdf)\n",
    "country_pdf.isnull().sum().sum()\n"
   ]
  },
  {
   "cell_type": "code",
   "execution_count": 89,
   "metadata": {},
   "outputs": [
    {
     "data": {
      "text/plain": [
       "0.009708737864077669"
      ]
     },
     "metadata": {},
     "output_type": "display_data"
    },
    {
     "data": {
      "text/plain": [
       "1125"
      ]
     },
     "metadata": {},
     "output_type": "display_data"
    },
    {
     "data": {
      "text/plain": [
       "0.019417475728155338"
      ]
     },
     "metadata": {},
     "output_type": "display_data"
    },
    {
     "data": {
      "text/plain": [
       "1300"
      ]
     },
     "metadata": {},
     "output_type": "display_data"
    },
    {
     "data": {
      "text/plain": [
       "0.02912621359223301"
      ]
     },
     "metadata": {},
     "output_type": "display_data"
    },
    {
     "data": {
      "text/plain": [
       "1310"
      ]
     },
     "metadata": {},
     "output_type": "display_data"
    },
    {
     "data": {
      "text/plain": [
       "0.038834951456310676"
      ]
     },
     "metadata": {},
     "output_type": "display_data"
    },
    {
     "data": {
      "text/plain": [
       "1365"
      ]
     },
     "metadata": {},
     "output_type": "display_data"
    },
    {
     "data": {
      "text/plain": [
       "0.04854368932038835"
      ]
     },
     "metadata": {},
     "output_type": "display_data"
    },
    {
     "data": {
      "text/plain": [
       "1430"
      ]
     },
     "metadata": {},
     "output_type": "display_data"
    },
    {
     "data": {
      "text/plain": [
       "0.05825242718446602"
      ]
     },
     "metadata": {},
     "output_type": "display_data"
    },
    {
     "data": {
      "text/plain": [
       "0.06796116504854369"
      ]
     },
     "metadata": {},
     "output_type": "display_data"
    },
    {
     "data": {
      "text/plain": [
       "2010"
      ]
     },
     "metadata": {},
     "output_type": "display_data"
    },
    {
     "data": {
      "text/plain": [
       "0.07766990291262135"
      ]
     },
     "metadata": {},
     "output_type": "display_data"
    },
    {
     "data": {
      "text/plain": [
       "2020"
      ]
     },
     "metadata": {},
     "output_type": "display_data"
    },
    {
     "data": {
      "text/plain": [
       "0.08737864077669903"
      ]
     },
     "metadata": {},
     "output_type": "display_data"
    },
    {
     "data": {
      "text/plain": [
       "0.0970873786407767"
      ]
     },
     "metadata": {},
     "output_type": "display_data"
    },
    {
     "data": {
      "text/plain": [
       "2030"
      ]
     },
     "metadata": {},
     "output_type": "display_data"
    },
    {
     "data": {
      "text/plain": [
       "0.10679611650485436"
      ]
     },
     "metadata": {},
     "output_type": "display_data"
    },
    {
     "data": {
      "text/plain": [
       "2040"
      ]
     },
     "metadata": {},
     "output_type": "display_data"
    },
    {
     "data": {
      "text/plain": [
       "0.11650485436893204"
      ]
     },
     "metadata": {},
     "output_type": "display_data"
    },
    {
     "data": {
      "text/plain": [
       "2045"
      ]
     },
     "metadata": {},
     "output_type": "display_data"
    },
    {
     "data": {
      "text/plain": [
       "0.1262135922330097"
      ]
     },
     "metadata": {},
     "output_type": "display_data"
    },
    {
     "data": {
      "text/plain": [
       "2050"
      ]
     },
     "metadata": {},
     "output_type": "display_data"
    },
    {
     "data": {
      "text/plain": [
       "0.13592233009708737"
      ]
     },
     "metadata": {},
     "output_type": "display_data"
    },
    {
     "data": {
      "text/plain": [
       "2060"
      ]
     },
     "metadata": {},
     "output_type": "display_data"
    },
    {
     "data": {
      "text/plain": [
       "0.14563106796116504"
      ]
     },
     "metadata": {},
     "output_type": "display_data"
    },
    {
     "data": {
      "text/plain": [
       "2070"
      ]
     },
     "metadata": {},
     "output_type": "display_data"
    },
    {
     "data": {
      "text/plain": [
       "0.1553398058252427"
      ]
     },
     "metadata": {},
     "output_type": "display_data"
    },
    {
     "data": {
      "text/plain": [
       "2085"
      ]
     },
     "metadata": {},
     "output_type": "display_data"
    },
    {
     "data": {
      "text/plain": [
       "0.1650485436893204"
      ]
     },
     "metadata": {},
     "output_type": "display_data"
    },
    {
     "data": {
      "text/plain": [
       "2110"
      ]
     },
     "metadata": {},
     "output_type": "display_data"
    },
    {
     "data": {
      "text/plain": [
       "0.17475728155339806"
      ]
     },
     "metadata": {},
     "output_type": "display_data"
    },
    {
     "data": {
      "text/plain": [
       "2120"
      ]
     },
     "metadata": {},
     "output_type": "display_data"
    },
    {
     "data": {
      "text/plain": [
       "0.18446601941747573"
      ]
     },
     "metadata": {},
     "output_type": "display_data"
    },
    {
     "data": {
      "text/plain": [
       "2130"
      ]
     },
     "metadata": {},
     "output_type": "display_data"
    },
    {
     "data": {
      "text/plain": [
       "0.1941747572815534"
      ]
     },
     "metadata": {},
     "output_type": "display_data"
    },
    {
     "data": {
      "text/plain": [
       "2140"
      ]
     },
     "metadata": {},
     "output_type": "display_data"
    },
    {
     "data": {
      "text/plain": [
       "0.20388349514563106"
      ]
     },
     "metadata": {},
     "output_type": "display_data"
    },
    {
     "data": {
      "text/plain": [
       "2150"
      ]
     },
     "metadata": {},
     "output_type": "display_data"
    },
    {
     "data": {
      "text/plain": [
       "0.21359223300970873"
      ]
     },
     "metadata": {},
     "output_type": "display_data"
    },
    {
     "data": {
      "text/plain": [
       "2160"
      ]
     },
     "metadata": {},
     "output_type": "display_data"
    },
    {
     "data": {
      "text/plain": [
       "0.22330097087378642"
      ]
     },
     "metadata": {},
     "output_type": "display_data"
    },
    {
     "data": {
      "text/plain": [
       "2170"
      ]
     },
     "metadata": {},
     "output_type": "display_data"
    },
    {
     "data": {
      "text/plain": [
       "0.23300970873786409"
      ]
     },
     "metadata": {},
     "output_type": "display_data"
    },
    {
     "data": {
      "text/plain": [
       "2180"
      ]
     },
     "metadata": {},
     "output_type": "display_data"
    },
    {
     "data": {
      "text/plain": [
       "0.24271844660194175"
      ]
     },
     "metadata": {},
     "output_type": "display_data"
    },
    {
     "data": {
      "text/plain": [
       "2190"
      ]
     },
     "metadata": {},
     "output_type": "display_data"
    },
    {
     "data": {
      "text/plain": [
       "0.2524271844660194"
      ]
     },
     "metadata": {},
     "output_type": "display_data"
    },
    {
     "data": {
      "text/plain": [
       "2230"
      ]
     },
     "metadata": {},
     "output_type": "display_data"
    },
    {
     "data": {
      "text/plain": [
       "0.2621359223300971"
      ]
     },
     "metadata": {},
     "output_type": "display_data"
    },
    {
     "data": {
      "text/plain": [
       "2250"
      ]
     },
     "metadata": {},
     "output_type": "display_data"
    },
    {
     "data": {
      "text/plain": [
       "0.27184466019417475"
      ]
     },
     "metadata": {},
     "output_type": "display_data"
    },
    {
     "data": {
      "text/plain": [
       "2260"
      ]
     },
     "metadata": {},
     "output_type": "display_data"
    },
    {
     "data": {
      "text/plain": [
       "0.2815533980582524"
      ]
     },
     "metadata": {},
     "output_type": "display_data"
    },
    {
     "data": {
      "text/plain": [
       "0.2912621359223301"
      ]
     },
     "metadata": {},
     "output_type": "display_data"
    },
    {
     "data": {
      "text/plain": [
       "2280"
      ]
     },
     "metadata": {},
     "output_type": "display_data"
    },
    {
     "data": {
      "text/plain": [
       "0.30097087378640774"
      ]
     },
     "metadata": {},
     "output_type": "display_data"
    },
    {
     "data": {
      "text/plain": [
       "2290"
      ]
     },
     "metadata": {},
     "output_type": "display_data"
    },
    {
     "data": {
      "text/plain": [
       "0.3106796116504854"
      ]
     },
     "metadata": {},
     "output_type": "display_data"
    },
    {
     "data": {
      "text/plain": [
       "2310"
      ]
     },
     "metadata": {},
     "output_type": "display_data"
    },
    {
     "data": {
      "text/plain": [
       "0.32038834951456313"
      ]
     },
     "metadata": {},
     "output_type": "display_data"
    },
    {
     "data": {
      "text/plain": [
       "2320"
      ]
     },
     "metadata": {},
     "output_type": "display_data"
    },
    {
     "data": {
      "text/plain": [
       "0.3300970873786408"
      ]
     },
     "metadata": {},
     "output_type": "display_data"
    },
    {
     "data": {
      "text/plain": [
       "2330"
      ]
     },
     "metadata": {},
     "output_type": "display_data"
    },
    {
     "data": {
      "text/plain": [
       "0.33980582524271846"
      ]
     },
     "metadata": {},
     "output_type": "display_data"
    },
    {
     "data": {
      "text/plain": [
       "2340"
      ]
     },
     "metadata": {},
     "output_type": "display_data"
    },
    {
     "data": {
      "text/plain": [
       "0.34951456310679613"
      ]
     },
     "metadata": {},
     "output_type": "display_data"
    },
    {
     "data": {
      "text/plain": [
       "2350"
      ]
     },
     "metadata": {},
     "output_type": "display_data"
    },
    {
     "data": {
      "text/plain": [
       "0.3592233009708738"
      ]
     },
     "metadata": {},
     "output_type": "display_data"
    },
    {
     "data": {
      "text/plain": [
       "2360"
      ]
     },
     "metadata": {},
     "output_type": "display_data"
    },
    {
     "data": {
      "text/plain": [
       "0.36893203883495146"
      ]
     },
     "metadata": {},
     "output_type": "display_data"
    },
    {
     "data": {
      "text/plain": [
       "2370"
      ]
     },
     "metadata": {},
     "output_type": "display_data"
    },
    {
     "data": {
      "text/plain": [
       "0.3786407766990291"
      ]
     },
     "metadata": {},
     "output_type": "display_data"
    },
    {
     "data": {
      "text/plain": [
       "2380"
      ]
     },
     "metadata": {},
     "output_type": "display_data"
    },
    {
     "data": {
      "text/plain": [
       "0.3883495145631068"
      ]
     },
     "metadata": {},
     "output_type": "display_data"
    },
    {
     "data": {
      "text/plain": [
       "2385"
      ]
     },
     "metadata": {},
     "output_type": "display_data"
    },
    {
     "data": {
      "text/plain": [
       "0.39805825242718446"
      ]
     },
     "metadata": {},
     "output_type": "display_data"
    },
    {
     "data": {
      "text/plain": [
       "2400"
      ]
     },
     "metadata": {},
     "output_type": "display_data"
    },
    {
     "data": {
      "text/plain": [
       "0.4077669902912621"
      ]
     },
     "metadata": {},
     "output_type": "display_data"
    },
    {
     "data": {
      "text/plain": [
       "2420"
      ]
     },
     "metadata": {},
     "output_type": "display_data"
    },
    {
     "data": {
      "text/plain": [
       "0.4174757281553398"
      ]
     },
     "metadata": {},
     "output_type": "display_data"
    },
    {
     "data": {
      "text/plain": [
       "2430"
      ]
     },
     "metadata": {},
     "output_type": "display_data"
    },
    {
     "data": {
      "text/plain": [
       "0.42718446601941745"
      ]
     },
     "metadata": {},
     "output_type": "display_data"
    },
    {
     "data": {
      "text/plain": [
       "2440"
      ]
     },
     "metadata": {},
     "output_type": "display_data"
    },
    {
     "data": {
      "text/plain": [
       "0.4368932038834951"
      ]
     },
     "metadata": {},
     "output_type": "display_data"
    },
    {
     "data": {
      "text/plain": [
       "2445"
      ]
     },
     "metadata": {},
     "output_type": "display_data"
    },
    {
     "data": {
      "text/plain": [
       "0.44660194174757284"
      ]
     },
     "metadata": {},
     "output_type": "display_data"
    },
    {
     "data": {
      "text/plain": [
       "2450"
      ]
     },
     "metadata": {},
     "output_type": "display_data"
    },
    {
     "data": {
      "text/plain": [
       "0.4563106796116505"
      ]
     },
     "metadata": {},
     "output_type": "display_data"
    },
    {
     "data": {
      "text/plain": [
       "2455"
      ]
     },
     "metadata": {},
     "output_type": "display_data"
    },
    {
     "data": {
      "text/plain": [
       "0.46601941747572817"
      ]
     },
     "metadata": {},
     "output_type": "display_data"
    },
    {
     "data": {
      "text/plain": [
       "2460"
      ]
     },
     "metadata": {},
     "output_type": "display_data"
    },
    {
     "data": {
      "text/plain": [
       "0.47572815533980584"
      ]
     },
     "metadata": {},
     "output_type": "display_data"
    },
    {
     "data": {
      "text/plain": [
       "2470"
      ]
     },
     "metadata": {},
     "output_type": "display_data"
    },
    {
     "data": {
      "text/plain": [
       "0.4854368932038835"
      ]
     },
     "metadata": {},
     "output_type": "display_data"
    },
    {
     "data": {
      "text/plain": [
       "3020"
      ]
     },
     "metadata": {},
     "output_type": "display_data"
    },
    {
     "data": {
      "text/plain": [
       "0.49514563106796117"
      ]
     },
     "metadata": {},
     "output_type": "display_data"
    },
    {
     "data": {
      "text/plain": [
       "3080"
      ]
     },
     "metadata": {},
     "output_type": "display_data"
    },
    {
     "data": {
      "text/plain": [
       "0.5048543689320388"
      ]
     },
     "metadata": {},
     "output_type": "display_data"
    },
    {
     "data": {
      "text/plain": [
       "3130"
      ]
     },
     "metadata": {},
     "output_type": "display_data"
    },
    {
     "data": {
      "text/plain": [
       "0.5145631067961165"
      ]
     },
     "metadata": {},
     "output_type": "display_data"
    },
    {
     "data": {
      "text/plain": [
       "3160"
      ]
     },
     "metadata": {},
     "output_type": "display_data"
    },
    {
     "data": {
      "text/plain": [
       "0.5242718446601942"
      ]
     },
     "metadata": {},
     "output_type": "display_data"
    },
    {
     "data": {
      "text/plain": [
       "3255"
      ]
     },
     "metadata": {},
     "output_type": "display_data"
    },
    {
     "data": {
      "text/plain": [
       "0.5339805825242718"
      ]
     },
     "metadata": {},
     "output_type": "display_data"
    },
    {
     "data": {
      "text/plain": [
       "3283"
      ]
     },
     "metadata": {},
     "output_type": "display_data"
    },
    {
     "data": {
      "text/plain": [
       "0.5436893203883495"
      ]
     },
     "metadata": {},
     "output_type": "display_data"
    },
    {
     "data": {
      "text/plain": [
       "3325"
      ]
     },
     "metadata": {},
     "output_type": "display_data"
    },
    {
     "data": {
      "text/plain": [
       "0.5533980582524272"
      ]
     },
     "metadata": {},
     "output_type": "display_data"
    },
    {
     "data": {
      "text/plain": [
       "3365"
      ]
     },
     "metadata": {},
     "output_type": "display_data"
    },
    {
     "data": {
      "text/plain": [
       "0.5631067961165048"
      ]
     },
     "metadata": {},
     "output_type": "display_data"
    },
    {
     "data": {
      "text/plain": [
       "3370"
      ]
     },
     "metadata": {},
     "output_type": "display_data"
    },
    {
     "data": {
      "text/plain": [
       "0.5728155339805825"
      ]
     },
     "metadata": {},
     "output_type": "display_data"
    },
    {
     "data": {
      "text/plain": [
       "3400"
      ]
     },
     "metadata": {},
     "output_type": "display_data"
    },
    {
     "data": {
      "text/plain": [
       "0.5825242718446602"
      ]
     },
     "metadata": {},
     "output_type": "display_data"
    },
    {
     "data": {
      "text/plain": [
       "4010"
      ]
     },
     "metadata": {},
     "output_type": "display_data"
    },
    {
     "data": {
      "text/plain": [
       "0.5922330097087378"
      ]
     },
     "metadata": {},
     "output_type": "display_data"
    },
    {
     "data": {
      "text/plain": [
       "4020"
      ]
     },
     "metadata": {},
     "output_type": "display_data"
    },
    {
     "data": {
      "text/plain": [
       "0.6019417475728155"
      ]
     },
     "metadata": {},
     "output_type": "display_data"
    },
    {
     "data": {
      "text/plain": [
       "4025"
      ]
     },
     "metadata": {},
     "output_type": "display_data"
    },
    {
     "data": {
      "text/plain": [
       "0.6116504854368932"
      ]
     },
     "metadata": {},
     "output_type": "display_data"
    },
    {
     "data": {
      "text/plain": [
       "4030"
      ]
     },
     "metadata": {},
     "output_type": "display_data"
    },
    {
     "data": {
      "text/plain": [
       "0.6213592233009708"
      ]
     },
     "metadata": {},
     "output_type": "display_data"
    },
    {
     "data": {
      "text/plain": [
       "4038"
      ]
     },
     "metadata": {},
     "output_type": "display_data"
    },
    {
     "data": {
      "text/plain": [
       "0.6310679611650486"
      ]
     },
     "metadata": {},
     "output_type": "display_data"
    },
    {
     "data": {
      "text/plain": [
       "4045"
      ]
     },
     "metadata": {},
     "output_type": "display_data"
    },
    {
     "data": {
      "text/plain": [
       "0.6407766990291263"
      ]
     },
     "metadata": {},
     "output_type": "display_data"
    },
    {
     "data": {
      "text/plain": [
       "4050"
      ]
     },
     "metadata": {},
     "output_type": "display_data"
    },
    {
     "data": {
      "text/plain": [
       "0.6504854368932039"
      ]
     },
     "metadata": {},
     "output_type": "display_data"
    },
    {
     "data": {
      "text/plain": [
       "4055"
      ]
     },
     "metadata": {},
     "output_type": "display_data"
    },
    {
     "data": {
      "text/plain": [
       "0.6601941747572816"
      ]
     },
     "metadata": {},
     "output_type": "display_data"
    },
    {
     "data": {
      "text/plain": [
       "4084"
      ]
     },
     "metadata": {},
     "output_type": "display_data"
    },
    {
     "data": {
      "text/plain": [
       "0.6699029126213593"
      ]
     },
     "metadata": {},
     "output_type": "display_data"
    },
    {
     "data": {
      "text/plain": [
       "4085"
      ]
     },
     "metadata": {},
     "output_type": "display_data"
    },
    {
     "data": {
      "text/plain": [
       "0.6796116504854369"
      ]
     },
     "metadata": {},
     "output_type": "display_data"
    },
    {
     "data": {
      "text/plain": [
       "4140"
      ]
     },
     "metadata": {},
     "output_type": "display_data"
    },
    {
     "data": {
      "text/plain": [
       "0.6893203883495146"
      ]
     },
     "metadata": {},
     "output_type": "display_data"
    },
    {
     "data": {
      "text/plain": [
       "4150"
      ]
     },
     "metadata": {},
     "output_type": "display_data"
    },
    {
     "data": {
      "text/plain": [
       "0.6990291262135923"
      ]
     },
     "metadata": {},
     "output_type": "display_data"
    },
    {
     "data": {
      "text/plain": [
       "4160"
      ]
     },
     "metadata": {},
     "output_type": "display_data"
    },
    {
     "data": {
      "text/plain": [
       "0.7087378640776699"
      ]
     },
     "metadata": {},
     "output_type": "display_data"
    },
    {
     "data": {
      "text/plain": [
       "4170"
      ]
     },
     "metadata": {},
     "output_type": "display_data"
    },
    {
     "data": {
      "text/plain": [
       "0.7184466019417476"
      ]
     },
     "metadata": {},
     "output_type": "display_data"
    },
    {
     "data": {
      "text/plain": [
       "4180"
      ]
     },
     "metadata": {},
     "output_type": "display_data"
    },
    {
     "data": {
      "text/plain": [
       "0.7281553398058253"
      ]
     },
     "metadata": {},
     "output_type": "display_data"
    },
    {
     "data": {
      "text/plain": [
       "4182"
      ]
     },
     "metadata": {},
     "output_type": "display_data"
    },
    {
     "data": {
      "text/plain": [
       "0.7378640776699029"
      ]
     },
     "metadata": {},
     "output_type": "display_data"
    },
    {
     "data": {
      "text/plain": [
       "4184"
      ]
     },
     "metadata": {},
     "output_type": "display_data"
    },
    {
     "data": {
      "text/plain": [
       "0.7475728155339806"
      ]
     },
     "metadata": {},
     "output_type": "display_data"
    },
    {
     "data": {
      "text/plain": [
       "4186"
      ]
     },
     "metadata": {},
     "output_type": "display_data"
    },
    {
     "data": {
      "text/plain": [
       "0.7572815533980582"
      ]
     },
     "metadata": {},
     "output_type": "display_data"
    },
    {
     "data": {
      "text/plain": [
       "4188"
      ]
     },
     "metadata": {},
     "output_type": "display_data"
    },
    {
     "data": {
      "text/plain": [
       "0.7669902912621359"
      ]
     },
     "metadata": {},
     "output_type": "display_data"
    },
    {
     "data": {
      "text/plain": [
       "4190"
      ]
     },
     "metadata": {},
     "output_type": "display_data"
    },
    {
     "data": {
      "text/plain": [
       "0.7766990291262136"
      ]
     },
     "metadata": {},
     "output_type": "display_data"
    },
    {
     "data": {
      "text/plain": [
       "4195"
      ]
     },
     "metadata": {},
     "output_type": "display_data"
    },
    {
     "data": {
      "text/plain": [
       "0.7864077669902912"
      ]
     },
     "metadata": {},
     "output_type": "display_data"
    },
    {
     "ename": "KeyboardInterrupt",
     "evalue": "",
     "output_type": "error",
     "traceback": [
      "\u001b[1;31m---------------------------------------------------------------------------\u001b[0m",
      "\u001b[1;31mKeyboardInterrupt\u001b[0m                         Traceback (most recent call last)",
      "\u001b[1;32mc:\\Users\\wqg16\\OneDrive\\文档\\GitHub\\Population2023\\Analysis.ipynb Cell 9\u001b[0m in \u001b[0;36m4\n\u001b[0;32m     <a href='vscode-notebook-cell:/c%3A/Users/wqg16/OneDrive/%E6%96%87%E6%A1%A3/GitHub/Population2023/Analysis.ipynb#X30sZmlsZQ%3D%3D?line=41'>42</a>\u001b[0m curr_Year \u001b[39m+\u001b[39m\u001b[39m=\u001b[39m \u001b[39m1\u001b[39m\n\u001b[0;32m     <a href='vscode-notebook-cell:/c%3A/Users/wqg16/OneDrive/%E6%96%87%E6%A1%A3/GitHub/Population2023/Analysis.ipynb#X30sZmlsZQ%3D%3D?line=42'>43</a>\u001b[0m count \u001b[39m+\u001b[39m\u001b[39m=\u001b[39m \u001b[39m1\u001b[39m\n\u001b[1;32m---> <a href='vscode-notebook-cell:/c%3A/Users/wqg16/OneDrive/%E6%96%87%E6%A1%A3/GitHub/Population2023/Analysis.ipynb#X30sZmlsZQ%3D%3D?line=43'>44</a>\u001b[0m mask_alt \u001b[39m=\u001b[39m (pdf[\u001b[39m'\u001b[39m\u001b[39mCountry\u001b[39m\u001b[39m'\u001b[39m] \u001b[39m==\u001b[39m key) \u001b[39m&\u001b[39m (pdf[\u001b[39m'\u001b[39;49m\u001b[39mYear\u001b[39;49m\u001b[39m'\u001b[39;49m] \u001b[39m==\u001b[39;49m curr_Year)\n\u001b[0;32m     <a href='vscode-notebook-cell:/c%3A/Users/wqg16/OneDrive/%E6%96%87%E6%A1%A3/GitHub/Population2023/Analysis.ipynb#X30sZmlsZQ%3D%3D?line=44'>45</a>\u001b[0m average \u001b[39m=\u001b[39m pdf\u001b[39m.\u001b[39mloc[mask_alt, c]\u001b[39m.\u001b[39mmean()   \n\u001b[0;32m     <a href='vscode-notebook-cell:/c%3A/Users/wqg16/OneDrive/%E6%96%87%E6%A1%A3/GitHub/Population2023/Analysis.ipynb#X30sZmlsZQ%3D%3D?line=46'>47</a>\u001b[0m \u001b[39mif\u001b[39;00m count \u001b[39m>\u001b[39m max_iter:\n",
      "File \u001b[1;32mc:\\Users\\wqg16\\AppData\\Local\\Programs\\Python\\Python38\\lib\\site-packages\\pandas\\core\\ops\\common.py:81\u001b[0m, in \u001b[0;36m_unpack_zerodim_and_defer.<locals>.new_method\u001b[1;34m(self, other)\u001b[0m\n\u001b[0;32m     77\u001b[0m             \u001b[39mreturn\u001b[39;00m \u001b[39mNotImplemented\u001b[39m\n\u001b[0;32m     79\u001b[0m other \u001b[39m=\u001b[39m item_from_zerodim(other)\n\u001b[1;32m---> 81\u001b[0m \u001b[39mreturn\u001b[39;00m method(\u001b[39mself\u001b[39;49m, other)\n",
      "File \u001b[1;32mc:\\Users\\wqg16\\AppData\\Local\\Programs\\Python\\Python38\\lib\\site-packages\\pandas\\core\\arraylike.py:40\u001b[0m, in \u001b[0;36mOpsMixin.__eq__\u001b[1;34m(self, other)\u001b[0m\n\u001b[0;32m     38\u001b[0m \u001b[39m@unpack_zerodim_and_defer\u001b[39m(\u001b[39m\"\u001b[39m\u001b[39m__eq__\u001b[39m\u001b[39m\"\u001b[39m)\n\u001b[0;32m     39\u001b[0m \u001b[39mdef\u001b[39;00m \u001b[39m__eq__\u001b[39m(\u001b[39mself\u001b[39m, other):\n\u001b[1;32m---> 40\u001b[0m     \u001b[39mreturn\u001b[39;00m \u001b[39mself\u001b[39;49m\u001b[39m.\u001b[39;49m_cmp_method(other, operator\u001b[39m.\u001b[39;49meq)\n",
      "File \u001b[1;32mc:\\Users\\wqg16\\AppData\\Local\\Programs\\Python\\Python38\\lib\\site-packages\\pandas\\core\\series.py:6097\u001b[0m, in \u001b[0;36mSeries._cmp_method\u001b[1;34m(self, other, op)\u001b[0m\n\u001b[0;32m   6094\u001b[0m rvalues \u001b[39m=\u001b[39m extract_array(other, extract_numpy\u001b[39m=\u001b[39m\u001b[39mTrue\u001b[39;00m, extract_range\u001b[39m=\u001b[39m\u001b[39mTrue\u001b[39;00m)\n\u001b[0;32m   6096\u001b[0m \u001b[39mwith\u001b[39;00m np\u001b[39m.\u001b[39merrstate(\u001b[39mall\u001b[39m\u001b[39m=\u001b[39m\u001b[39m\"\u001b[39m\u001b[39mignore\u001b[39m\u001b[39m\"\u001b[39m):\n\u001b[1;32m-> 6097\u001b[0m     res_values \u001b[39m=\u001b[39m ops\u001b[39m.\u001b[39;49mcomparison_op(lvalues, rvalues, op)\n\u001b[0;32m   6099\u001b[0m \u001b[39mreturn\u001b[39;00m \u001b[39mself\u001b[39m\u001b[39m.\u001b[39m_construct_result(res_values, name\u001b[39m=\u001b[39mres_name)\n",
      "File \u001b[1;32mc:\\Users\\wqg16\\AppData\\Local\\Programs\\Python\\Python38\\lib\\site-packages\\pandas\\core\\ops\\array_ops.py:289\u001b[0m, in \u001b[0;36mcomparison_op\u001b[1;34m(left, right, op)\u001b[0m\n\u001b[0;32m    286\u001b[0m     res_values \u001b[39m=\u001b[39m comp_method_OBJECT_ARRAY(op, lvalues, rvalues)\n\u001b[0;32m    288\u001b[0m \u001b[39melse\u001b[39;00m:\n\u001b[1;32m--> 289\u001b[0m     res_values \u001b[39m=\u001b[39m _na_arithmetic_op(lvalues, rvalues, op, is_cmp\u001b[39m=\u001b[39;49m\u001b[39mTrue\u001b[39;49;00m)\n\u001b[0;32m    291\u001b[0m \u001b[39mreturn\u001b[39;00m res_values\n",
      "File \u001b[1;32mc:\\Users\\wqg16\\AppData\\Local\\Programs\\Python\\Python38\\lib\\site-packages\\pandas\\core\\ops\\array_ops.py:164\u001b[0m, in \u001b[0;36m_na_arithmetic_op\u001b[1;34m(left, right, op, is_cmp)\u001b[0m\n\u001b[0;32m    161\u001b[0m     func \u001b[39m=\u001b[39m partial(expressions\u001b[39m.\u001b[39mevaluate, op)\n\u001b[0;32m    163\u001b[0m \u001b[39mtry\u001b[39;00m:\n\u001b[1;32m--> 164\u001b[0m     result \u001b[39m=\u001b[39m func(left, right)\n\u001b[0;32m    165\u001b[0m \u001b[39mexcept\u001b[39;00m \u001b[39mTypeError\u001b[39;00m:\n\u001b[0;32m    166\u001b[0m     \u001b[39mif\u001b[39;00m \u001b[39mnot\u001b[39;00m is_cmp \u001b[39mand\u001b[39;00m (is_object_dtype(left\u001b[39m.\u001b[39mdtype) \u001b[39mor\u001b[39;00m is_object_dtype(right)):\n\u001b[0;32m    167\u001b[0m         \u001b[39m# For object dtype, fallback to a masked operation (only operating\u001b[39;00m\n\u001b[0;32m    168\u001b[0m         \u001b[39m#  on the non-missing values)\u001b[39;00m\n\u001b[0;32m    169\u001b[0m         \u001b[39m# Don't do this for comparisons, as that will handle complex numbers\u001b[39;00m\n\u001b[0;32m    170\u001b[0m         \u001b[39m#  incorrectly, see GH#32047\u001b[39;00m\n",
      "File \u001b[1;32mc:\\Users\\wqg16\\AppData\\Local\\Programs\\Python\\Python38\\lib\\site-packages\\pandas\\core\\computation\\expressions.py:239\u001b[0m, in \u001b[0;36mevaluate\u001b[1;34m(op, a, b, use_numexpr)\u001b[0m\n\u001b[0;32m    236\u001b[0m \u001b[39mif\u001b[39;00m op_str \u001b[39mis\u001b[39;00m \u001b[39mnot\u001b[39;00m \u001b[39mNone\u001b[39;00m:\n\u001b[0;32m    237\u001b[0m     \u001b[39mif\u001b[39;00m use_numexpr:\n\u001b[0;32m    238\u001b[0m         \u001b[39m# error: \"None\" not callable\u001b[39;00m\n\u001b[1;32m--> 239\u001b[0m         \u001b[39mreturn\u001b[39;00m _evaluate(op, op_str, a, b)  \u001b[39m# type: ignore[misc]\u001b[39;00m\n\u001b[0;32m    240\u001b[0m \u001b[39mreturn\u001b[39;00m _evaluate_standard(op, op_str, a, b)\n",
      "File \u001b[1;32mc:\\Users\\wqg16\\AppData\\Local\\Programs\\Python\\Python38\\lib\\site-packages\\pandas\\core\\computation\\expressions.py:70\u001b[0m, in \u001b[0;36m_evaluate_standard\u001b[1;34m(op, op_str, a, b)\u001b[0m\n\u001b[0;32m     68\u001b[0m \u001b[39mif\u001b[39;00m _TEST_MODE:\n\u001b[0;32m     69\u001b[0m     _store_test_result(\u001b[39mFalse\u001b[39;00m)\n\u001b[1;32m---> 70\u001b[0m \u001b[39mreturn\u001b[39;00m op(a, b)\n",
      "\u001b[1;31mKeyboardInterrupt\u001b[0m: "
     ]
    }
   ],
   "source": [
    "not_used_pop_list = []\n",
    "country_num_count = 0\n",
    "not_useful = False\n",
    "for key in country_list:\n",
    "    \n",
    "        country_num_count += 1\n",
    "        display(country_num_count / len(country_list))\n",
    "        \n",
    "        country_pdf = pdf[pdf['Country'] == key]\n",
    "        \n",
    "        if country_pdf.empty:\n",
    "            not_used_pop_list.append(key)\n",
    "        \n",
    "        else:\n",
    "            min_year = int(country_pdf['Year'].min())\n",
    "            max_year = int(country_pdf['Year'].max()) \n",
    "            \n",
    "            if min_year == max_year:\n",
    "                if (country_pdf.isnull().sum().sum() > 0):\n",
    "                    not_useful = True\n",
    "                else:\n",
    "                    continue\n",
    "            \n",
    "            for i in range (min_year, max_year + 1):\n",
    "                \n",
    "                if not_useful:\n",
    "                    break\n",
    "                \n",
    "                mask = (pdf['Country'] == key) & (pdf['Year'] == i)\n",
    "                curr_Year = i\n",
    "\n",
    "                for c in pdf.columns.values:\n",
    "                    \n",
    "                    if not_useful:\n",
    "                        break\n",
    "                    \n",
    "                    average = pdf.loc[mask, c].mean()   \n",
    "                    \n",
    "                    max_iter = max_year - curr_Year\n",
    "                    count = 0 \n",
    "                    while np.isnan(average):\n",
    "                        curr_Year += 1\n",
    "                        count += 1\n",
    "                        mask_alt = (pdf['Country'] == key) & (pdf['Year'] == curr_Year)\n",
    "                        average = pdf.loc[mask_alt, c].mean()   \n",
    "                        \n",
    "                        if count > max_iter:\n",
    "                            not_useful = True\n",
    "                            break \n",
    "                        \n",
    "                        \n",
    "                    pdf.loc[mask, c] = pdf.loc[mask, c].fillna(average)\n",
    "                    curr_Year = i \n",
    "                    \n",
    "            if not_useful:\n",
    "                display(key)\n",
    "                not_used_pop_list.append(key)\n",
    "                index = pdf[pdf['Country'] == key].index\n",
    "                pdf = pdf.drop(index)\n",
    "                not_useful = False\n",
    "    "
   ]
  },
  {
   "cell_type": "code",
   "execution_count": null,
   "metadata": {},
   "outputs": [
    {
     "data": {
      "text/plain": [
       "Country       0\n",
       "Year          0\n",
       "Pop1          0\n",
       "Pop2         60\n",
       "Pop3         60\n",
       "Pop4       1271\n",
       "Pop5       1271\n",
       "Pop6       1271\n",
       "Pop7         60\n",
       "Pop8         72\n",
       "Pop9         60\n",
       "Pop10        72\n",
       "Pop11        60\n",
       "Pop12        72\n",
       "Pop13        60\n",
       "Pop14        72\n",
       "Pop15        60\n",
       "Pop16        72\n",
       "Pop17        60\n",
       "Pop18        72\n",
       "Pop19        60\n",
       "Pop20        76\n",
       "Pop21       138\n",
       "Pop22       342\n",
       "Pop23       342\n",
       "Pop24      2352\n",
       "Pop25      2352\n",
       "Pop26        60\n",
       "Lb          186\n",
       "dtype: int64"
      ]
     },
     "execution_count": 81,
     "metadata": {},
     "output_type": "execute_result"
    }
   ],
   "source": [
    "pdf.isnull().sum()"
   ]
  },
  {
   "cell_type": "code",
   "execution_count": null,
   "metadata": {},
   "outputs": [],
   "source": [
    "for key in country_code_map:\n",
    "    country_mdf = mdf[mdf['Country'] == key]\n",
    "    display(country_mdf)"
   ]
  },
  {
   "cell_type": "code",
   "execution_count": null,
   "metadata": {},
   "outputs": [],
   "source": [
    "# looping through the code map to locate each different countries\n",
    "# condense the mortality and pop rate \n",
    "undesired = ['Admin1', 'SubDiv', 'Sex', 'List', 'Frmat', 'IM_Frmat', 'Cause', 'IM_Deaths1','IM_Deaths2', 'IM_Deaths3', 'IM_Deaths4']\n",
    "modified_dict = {}\n",
    "for i in mdf.columns.values:\n",
    "    if i not in undesired:\n",
    "       modified_dict[i] = []\n",
    "\n",
    "modified_df = pd.DataFrame(modified_dict)\n",
    "list_delete_keys = []\n",
    "consider_population = True\n",
    "\n",
    "for key in country_code_map: \n",
    "    temp_mortality_df = mdf[mdf['Country'] == key] # filter to the country\n",
    "    temp_pop_data = pop_data[pop_data['Country'] == key]\n",
    "    if temp_mortality_df.empty:\n",
    "        list_delete_keys.append(key)\n",
    "    else:\n",
    "        for i in range (1980, 2003):\n",
    "            temp_temp_mortality_df = temp_mortality_df.loc[temp_mortality_df['Year'] == i] # filter to the year \n",
    "            temp_temp_pop_data = temp_pop_data.loc[temp_pop_data['Year'] == i] \n",
    "            if temp_temp_mortality_df.empty:\n",
    "                continue\n",
    "            else:\n",
    "                modified_df.loc[modified_df.shape[0]] = ['None'] * modified_df.shape[1]\n",
    "                modified_df.loc[modified_df.shape[0]-1, ['Country']] = key\n",
    "                modified_df.loc[modified_df.shape[0]-1, ['Year']] = i\n",
    "                column_name = modified_df.columns.values \n",
    "                k = 1\n",
    "                for c in column_name[2:]:\n",
    "                    j = f'Pop{k}'\n",
    "                    population = temp_temp_pop_data[j].sum()\n",
    "                    if c in temp_temp_mortality_df.columns.values:\n",
    "                        if consider_population:\n",
    "                            if population == 0:\n",
    "                                modified_df.loc[modified_df.shape[0]-1, [c]] = 0\n",
    "                            else:\n",
    "                                modified_df.loc[modified_df.shape[0]-1, [c]] = temp_temp_mortality_df[c].sum() / population\n",
    "                        else:    \n",
    "                            modified_df.loc[modified_df.shape[0]-1, [c]] = temp_temp_mortality_df[c].sum() \n",
    "                    k += 1\n",
    "            \n",
    "                # modified_df.index = modified_df.index + 1\n",
    "                # modified_df = modified_df.sort_index()      "
   ]
  },
  {
   "cell_type": "code",
   "execution_count": null,
   "metadata": {},
   "outputs": [],
   "source": [
    "# delete keys from dictionary\n",
    "for key in list_delete_keys:\n",
    "    del country_code_map[key]"
   ]
  },
  {
   "cell_type": "code",
   "execution_count": null,
   "metadata": {},
   "outputs": [],
   "source": [
    "# building the mortality model \n",
    "country_mortality_model = {}\n",
    "final_beginning_year = 9999\n",
    "for key in country_code_map:\n",
    "    # isolate country\n",
    "    temp_modified_df = modified_df[modified_df['Country'] == key]\n",
    "    # temp_modified_df.drop(columns=['Country'], inplace = True) \n",
    "    \n",
    "    # finding alpha \n",
    "    last_year = temp_modified_df['Year'].max()\n",
    "    \n",
    "    if last_year < final_beginning_year:\n",
    "        final_beginning_year = last_year\n",
    "    \n",
    "    first_year = temp_modified_df['Year'].min()\n",
    "    duration = last_year - first_year + 1\n",
    "    last_row = temp_modified_df[temp_modified_df['Year'] == last_year].loc[:, ~temp_modified_df.columns.isin(['Country', 'Year'])].values.astype('float')\n",
    "    first_row = temp_modified_df[temp_modified_df['Year'] == first_year].loc[:, ~temp_modified_df.columns.isin(['Country', 'Year'])].values.astype('float')\n",
    "    aphla = (last_row - first_row) / duration\n",
    "\n",
    "    country_mortality_model[key] = {'a': aphla, 'd': duration}"
   ]
  },
  {
   "cell_type": "code",
   "execution_count": null,
   "metadata": {},
   "outputs": [],
   "source": [
    "final_ending_year = 2050\n",
    "current_year = 2000\n",
    "\n",
    "mortality_pred_all = []\n",
    "while current_year <= final_ending_year:\n",
    "    \n",
    "    mortality_pred_year = {}\n",
    "    \n",
    "    for key in country_code_map: \n",
    "        \n",
    "        print(key)\n",
    "        \n",
    "        # isolate the data to the target data row \\n\",\n",
    "        temp_modified_df = modified_df[(modified_df['Country'] == key)]  \n",
    "        # check if there is real data for this year for this country\\n\",\n",
    "        if current_year <= 2002:\n",
    "            df = temp_modified_df[temp_modified_df['Year'] == current_year + 1]\n",
    "            if not df.empty:\n",
    "                df = df.loc[:, ~df.columns.isin(['Country', 'Year'])].values.astype('float')\n",
    "                mortality_pred_year[key] = df \n",
    "                continue\n",
    " \n",
    "        # clean the data for the row\n",
    "        temp_modified_df = temp_modified_df[temp_modified_df['Year'] == current_year].loc[:, ~temp_modified_df.columns.isin(['Country', 'Year'])].values.astype('float')\n",
    "        # find the aphla, b and k value for the model for future \\n\",\n",
    "        aphla = country_mortality_model[key]['a']\n",
    "        duration = country_mortality_model[key]['d']\n",
    "        m_hat = (temp_modified_df - aphla)\n",
    "        s, u, v = np.linalg.svd(m_hat)\n",
    "        scalar = s[0]\n",
    "        k = scalar * u[0]\n",
    "        b = v[0] / scalar \n",
    "  \n",
    "        # compute the next years result\",\n",
    "        change = np.exp(aphla + b * k)\n",
    "        display(temp_modified_df.shape)\n",
    "        display(change.shape)\n",
    "        next_year = temp_mortality_df + change\n",
    "        mortality_pred_year[key] = next_year\n",
    "        \n",
    "        # update parameters\n",
    "        duration += 1\n",
    "        aphla = (aphla * duration + change) / duration\n",
    "        country_mortality_model[key]['a'] = aphla\n",
    "        country_mortality_model[key]['d'] = duration\n",
    "    \n",
    "    current_year += 1\n",
    "    mortality_pred_all.append(mortality_pred_year)\n",
    "        \n",
    "        \n"
   ]
  },
  {
   "cell_type": "code",
   "execution_count": null,
   "metadata": {},
   "outputs": [],
   "source": [
    "key = 1125\n",
    "temp_modified_df = modified_df[(modified_df['Country'] == key)]  \n",
    "# clean the data for the row\n",
    "temp_modified_df = temp_modified_df[temp_modified_df['Year'] == current_year].loc[:, ~temp_modified_df.columns.isin(['Country', 'Year'])].values.astype('float')\n",
    "# find the aphla, b and k value for the model for future \\n\",\n",
    "aphla = country_mortality_model[key]['a']\n",
    "duration = country_mortality_model[key]['d']\n",
    "m_hat = (temp_modified_df - aphla)\n",
    "s, u, v = np.linalg.svd(m_hat)\n",
    "scalar = s[0]\n",
    "k = scalar * u[0]\n",
    "b = v[0] / scalar \n",
    "\n",
    "display(aphla)\n",
    "display(k, b)\n",
    "change = np.exp(aphla + b * k)\n",
    "display(temp_modified_df)\n",
    "display(change)\n",
    "display(temp_modified_df.shape)\n",
    "next_year = temp_mortality_df + change\n",
    "mortality_pred_year[key] = next_year"
   ]
  }
 ],
 "metadata": {
  "kernelspec": {
   "display_name": "Python 3.11.0 64-bit",
   "language": "python",
   "name": "python3"
  },
  "language_info": {
   "codemirror_mode": {
    "name": "ipython",
    "version": 3
   },
   "file_extension": ".py",
   "mimetype": "text/x-python",
   "name": "python",
   "nbconvert_exporter": "python",
   "pygments_lexer": "ipython3",
   "version": "3.8.0"
  },
  "orig_nbformat": 4,
  "vscode": {
   "interpreter": {
    "hash": "aee8b7b246df8f9039afb4144a1f6fd8d2ca17a180786b69acc140d282b71a49"
   }
  }
 },
 "nbformat": 4,
 "nbformat_minor": 2
}
