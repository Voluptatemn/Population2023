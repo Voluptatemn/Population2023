{
 "cells": [
  {
   "cell_type": "code",
   "execution_count": null,
   "metadata": {},
   "outputs": [],
   "source": [
    "# import library\n",
    "import pandas as pd\n",
    "import numpy as np \n",
    "import matlab \n",
    "import matplotlib as plt\n",
    "import os\n",
    "import numpy as np\n"
   ]
  },
  {
   "cell_type": "code",
   "execution_count": null,
   "metadata": {},
   "outputs": [],
   "source": [
    "# read the file\n",
    "# mortality\n",
    "mortality_path = r'data/Morticd10_part1.csv'\n",
    "mortality_data_2002 = pd.read_csv(mortality_path, low_memory=False)"
   ]
  },
  {
   "cell_type": "code",
   "execution_count": null,
   "metadata": {},
   "outputs": [],
   "source": [
    "# population\n",
    "pop_path = r'data/pop.csv'\n",
    "pop_data = pd.read_csv(pop_path, low_memory=False)"
   ]
  },
  {
   "cell_type": "code",
   "execution_count": null,
   "metadata": {},
   "outputs": [],
   "source": [
    "# country code\n",
    "country_code_path = r'data/country_codes.csv'\n",
    "country_code = pd.read_csv(country_code_path, low_memory=False)"
   ]
  },
  {
   "cell_type": "code",
   "execution_count": null,
   "metadata": {},
   "outputs": [],
   "source": [
    "# changes to the mortality data file, creating a new data frame with only the number of deaths and the population, country, year, deaths1 - deaths26, pop1 - pop 26, im_death\n",
    "# creating the country code map \n",
    "country_code_map = {}\n",
    "for index, rows in country_code.iterrows():\n",
    "    country_code_map[rows['country']] = rows['name']\n",
    "    "
   ]
  },
  {
   "cell_type": "code",
   "execution_count": null,
   "metadata": {},
   "outputs": [],
   "source": [
    "# looping through the code map to locate each different countries\n",
    "# condense the mortality and pop rate \n",
    "undesired = ['Admin1', 'SubDiv', 'Sex', 'List', 'Frmat', 'IM_Frmat', 'Cause']\n",
    "modified_dict = {}\n",
    "for i in mortality_data_2002.columns.values:\n",
    "    if i not in undesired:\n",
    "       modified_dict[i] = []\n",
    "\n",
    "modified_df = pd.DataFrame(modified_dict)\n",
    "list_delete_keys = []\n",
    "\n",
    "for key in country_code_map: \n",
    "    temp_mortality_df = mortality_data_2002[mortality_data_2002['Country'] == key] # filter to the country\n",
    "    if temp_mortality_df.empty:\n",
    "        list_delete_keys.append(key)\n",
    "    else:\n",
    "        for i in range (1980, 2003):\n",
    "            temp_temp_mortality_df = temp_mortality_df.loc[temp_mortality_df['Year'] == i] # filter to the year \n",
    "            if temp_temp_mortality_df.empty:\n",
    "                continue\n",
    "            else:\n",
    "                modified_df.loc[modified_df.shape[0]] = ['None'] * modified_df.shape[1]\n",
    "                modified_df.loc[modified_df.shape[0]-1, ['Country']] = key\n",
    "                modified_df.loc[modified_df.shape[0]-1, ['Year']] = i\n",
    "                column_name = modified_df.columns.values \n",
    "                for c in column_name[2:]:\n",
    "                    if c in temp_temp_mortality_df.columns.values:\n",
    "                        modified_df.loc[modified_df.shape[0]-1, [c]] = temp_temp_mortality_df[c].sum()\n",
    "            \n",
    "                # modified_df.index = modified_df.index + 1\n",
    "                # modified_df = modified_df.sort_index()      "
   ]
  },
  {
   "cell_type": "code",
   "execution_count": null,
   "metadata": {},
   "outputs": [],
   "source": [
    "# delete keys from dictionary\n",
    "for key in list_delete_keys:\n",
    "    del country_code_map[key]"
   ]
  },
  {
   "cell_type": "code",
   "execution_count": null,
   "metadata": {},
   "outputs": [],
   "source": [
    "# building the mortality model \n",
    "country_mortality_model = {}\n",
    "final_beginning_year = 9999\n",
    "for key in country_code_map:\n",
    "    # isolate country\n",
    "    temp_modified_df = modified_df[modified_df['Country'] == key]\n",
    "    # temp_modified_df.drop(columns=['Country'], inplace = True) \n",
    "    \n",
    "    # finding alpha \n",
    "    last_year = temp_modified_df['Year'].max()\n",
    "    \n",
    "    if last_year < final_beginning_year:\n",
    "        final_beginning_year = last_year\n",
    "    \n",
    "    first_year = temp_modified_df['Year'].min()\n",
    "    duration = last_year - first_year + 1\n",
    "    last_row = temp_modified_df[temp_modified_df['Year'] == last_year].loc[:, ~temp_modified_df.columns.isin(['Country', 'Year'])].values.astype('float')\n",
    "    first_row = temp_modified_df[temp_modified_df['Year'] == first_year].loc[:, ~temp_modified_df.columns.isin(['Country', 'Year'])].values.astype('float')\n",
    "    aphla = (last_row - first_row) / duration\n",
    "\n",
    "    country_mortality_model[key] = {'a': aphla, 'd': duration}"
   ]
  },
  {
   "cell_type": "code",
   "execution_count": null,
   "metadata": {},
   "outputs": [],
   "source": [
    "final_ending_year = 2050\n",
    "current_year = 2000\n",
    "\n",
    "mortality_pred_all = []\n",
    "while current_year <= final_ending_year:\n",
    "    \n",
    "    mortality_pred_year = {}\n",
    "    \n",
    "    for key in country_code_map: \n",
    "        \n",
    "        print(key)\n",
    "        \n",
    "        # isolate the data to the target data row \\n\",\n",
    "        temp_modified_df = modified_df[(modified_df['Country'] == key)]  \n",
    "        # check if there is real data for this year for this country\\n\",\n",
    "        if current_year <= 2002:\n",
    "            df = temp_modified_df[temp_modified_df['Year'] == current_year + 1]\n",
    "            if not df.empty:\n",
    "                df = df.loc[:, ~df.columns.isin(['Country', 'Year'])].values.astype('float')\n",
    "                mortality_pred_year[key] = df \n",
    "                continue\n",
    " \n",
    "        # clean the data for the row\n",
    "        temp_modified_df = temp_modified_df[modified_df['Year'] == current_year].loc[:, ~temp_modified_df.columns.isin(['Country', 'Year'])].values.astype('float')\n",
    "        display(temp_modified_df.shape)\n",
    "        # find the aphla, b and k value for the model for future \\n\",\n",
    "        aphla = country_mortality_model[key]['a']\n",
    "        duration = country_mortality_model[key]['d']\n",
    "        m_hat = (temp_modified_df - aphla)\n",
    "        s, u, v = np.linalg.svd(m_hat)\n",
    "        scalar = s[0]\n",
    "        k = scalar * u[0]\n",
    "        b = v[0] / scalar \n",
    "  \n",
    "        # compute the next years result\",\n",
    "        change = np.exp(aphla + b * k)\n",
    "        display(change.shape)\n",
    "        next_year = temp_mortality_df + change\n",
    "        mortality_pred_year[key] = next_year\n",
    "        \n",
    "        # update parameters\n",
    "        duration += 1\n",
    "        aphla = (aphla * duration + change) / duration\n",
    "        country_mortality_model[key]['a'] = aphla\n",
    "        country_mortality_model[key]['d'] = duration\n",
    "    \n",
    "    current_year += 1\n",
    "    mortality_pred_all.append(mortality_pred_year)\n",
    "        \n",
    "        \n"
   ]
  }
 ],
 "metadata": {
  "kernelspec": {
   "display_name": "Python 3.11.0 64-bit",
   "language": "python",
   "name": "python3"
  },
  "language_info": {
   "codemirror_mode": {
    "name": "ipython",
    "version": 3
   },
   "file_extension": ".py",
   "mimetype": "text/x-python",
   "name": "python",
   "nbconvert_exporter": "python",
   "pygments_lexer": "ipython3",
   "version": "3.11.0"
  },
  "orig_nbformat": 4,
  "vscode": {
   "interpreter": {
    "hash": "aee8b7b246df8f9039afb4144a1f6fd8d2ca17a180786b69acc140d282b71a49"
   }
  }
 },
 "nbformat": 4,
 "nbformat_minor": 2
}
