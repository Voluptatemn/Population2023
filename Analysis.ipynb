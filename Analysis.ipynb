{
 "cells": [
  {
   "cell_type": "code",
   "execution_count": 40,
   "metadata": {},
   "outputs": [],
   "source": [
    "# import library\n",
    "import pandas as pd\n",
    "import numpy as np \n",
    "import matlab \n",
    "import matplotlib as plt\n",
    "import os\n",
    "import numpy as np\n"
   ]
  },
  {
   "cell_type": "code",
   "execution_count": 52,
   "metadata": {},
   "outputs": [],
   "source": [
    "# read the file\n",
    "# mortality\n",
    "mortality_path_7 = r'data/MortIcd7.csv'\n",
    "mortality_data_7 = pd.read_csv(mortality_path_7, low_memory=False)\n",
    "\n",
    "mortality_path_8 = r'data/MortIcd8.csv'\n",
    "mortality_data_8 = pd.read_csv(mortality_path_8, low_memory=False)\n",
    "\n",
    "mortality_path_9 = r'data/Morticd9.csv'\n",
    "mortality_data_9 = pd.read_csv(mortality_path_9, low_memory=False)\n",
    "\n",
    "mortality_path_2002 = r'data/Morticd10_part1.csv'\n",
    "mortality_data_2002 = pd.read_csv(mortality_path_2002, low_memory=False)\n",
    "\n",
    "mortality_path_2007 = r'data/Morticd10_part2.csv'\n",
    "mortality_data_2007 = pd.read_csv(mortality_path_2007, low_memory=False)\n",
    "\n",
    "mortality_path_2012 = r'data/Morticd10_part3.csv'\n",
    "mortality_data_2012 = pd.read_csv(mortality_path_2012, low_memory=False)\n",
    "\n",
    "mortality_path_2016 = r'data/Morticd10_part4.csv'\n",
    "mortality_data_2016 = pd.read_csv(mortality_path_2016, low_memory=False)\n",
    "\n",
    "mdf = pd.concat([mortality_data_7, mortality_data_8, mortality_data_9, mortality_data_2002, mortality_data_2007, mortality_data_2012, mortality_data_2016], ignore_index=True)\n",
    "\n",
    "# population\n",
    "pop_path = r'data/pop.csv'\n",
    "pdf = pd.read_csv(pop_path, low_memory=False)\n",
    "\n",
    "# country code\n",
    "country_code_path = r'data/country_codes.csv'\n",
    "country_code = pd.read_csv(country_code_path, low_memory=False)\n",
    "# creating the country code map \n",
    "country_code_map = {}\n",
    "for index, rows in country_code.iterrows():\n",
    "    country_code_map[rows['country']] = rows['name']"
   ]
  },
  {
   "cell_type": "code",
   "execution_count": 59,
   "metadata": {},
   "outputs": [
    {
     "data": {
      "text/plain": [
       "0"
      ]
     },
     "execution_count": 59,
     "metadata": {},
     "output_type": "execute_result"
    }
   ],
   "source": [
    "mdf['Year'].isnull().sum()"
   ]
  },
  {
   "cell_type": "code",
   "execution_count": 54,
   "metadata": {},
   "outputs": [],
   "source": [
    "# working, deleted the not useful columns\n",
    "undesired_mortality_columns = ['Admin1', 'SubDiv', 'Sex', 'List', 'Frmat', 'IM_Frmat', 'Cause', 'IM_Deaths1','IM_Deaths2', 'IM_Deaths3', 'IM_Deaths4'] \n",
    "undesired_population_columns = ['Admin1', 'SubDiv', 'Sex', 'Frmat'] \n",
    "mdf = mdf.drop(columns = undesired_mortality_columns)\n",
    "pdf = pdf.drop(columns = undesired_population_columns)"
   ]
  },
  {
   "cell_type": "code",
   "execution_count": 68,
   "metadata": {},
   "outputs": [
    {
     "name": "stderr",
     "output_type": "stream",
     "text": [
      "C:\\Users\\Public\\Documents\\Wondershare\\CreatorTemp\\ipykernel_28872\\2782037953.py:13: SettingWithCopyWarning: \n",
      "A value is trying to be set on a copy of a slice from a DataFrame.\n",
      "Try using .loc[row_indexer,col_indexer] = value instead\n",
      "\n",
      "See the caveats in the documentation: https://pandas.pydata.org/pandas-docs/stable/user_guide/indexing.html#returning-a-view-versus-a-copy\n",
      "  mdf.loc[(mdf['Country'] == key) & (mdf['Year'] == i)][c] = mdf[c].fillna(year_mdf[c].mean())\n"
     ]
    },
    {
     "ename": "KeyboardInterrupt",
     "evalue": "",
     "output_type": "error",
     "traceback": [
      "\u001b[1;31m---------------------------------------------------------------------------\u001b[0m",
      "\u001b[1;31mKeyboardInterrupt\u001b[0m                         Traceback (most recent call last)",
      "\u001b[1;32mc:\\Users\\wqg16\\OneDrive\\文档\\GitHub\\Population2023\\Analysis.ipynb Cell 5\u001b[0m in \u001b[0;36m1\n\u001b[0;32m     <a href='vscode-notebook-cell:/c%3A/Users/wqg16/OneDrive/%E6%96%87%E6%A1%A3/GitHub/Population2023/Analysis.ipynb#X20sZmlsZQ%3D%3D?line=10'>11</a>\u001b[0m year_mdf \u001b[39m=\u001b[39m country_mdf[country_mdf[\u001b[39m'\u001b[39m\u001b[39mYear\u001b[39m\u001b[39m'\u001b[39m] \u001b[39m==\u001b[39m i]\n\u001b[0;32m     <a href='vscode-notebook-cell:/c%3A/Users/wqg16/OneDrive/%E6%96%87%E6%A1%A3/GitHub/Population2023/Analysis.ipynb#X20sZmlsZQ%3D%3D?line=11'>12</a>\u001b[0m \u001b[39mfor\u001b[39;00m c \u001b[39min\u001b[39;00m year_mdf\u001b[39m.\u001b[39mcolumns:\n\u001b[1;32m---> <a href='vscode-notebook-cell:/c%3A/Users/wqg16/OneDrive/%E6%96%87%E6%A1%A3/GitHub/Population2023/Analysis.ipynb#X20sZmlsZQ%3D%3D?line=12'>13</a>\u001b[0m     mdf\u001b[39m.\u001b[39;49mloc[(mdf[\u001b[39m'\u001b[39;49m\u001b[39mCountry\u001b[39;49m\u001b[39m'\u001b[39;49m] \u001b[39m==\u001b[39;49m key) \u001b[39m&\u001b[39;49m (mdf[\u001b[39m'\u001b[39;49m\u001b[39mYear\u001b[39;49m\u001b[39m'\u001b[39;49m] \u001b[39m==\u001b[39;49m i)][c] \u001b[39m=\u001b[39m mdf[c]\u001b[39m.\u001b[39mfillna(year_mdf[c]\u001b[39m.\u001b[39mmean())\n",
      "File \u001b[1;32mc:\\Users\\wqg16\\AppData\\Local\\Programs\\Python\\Python38\\lib\\site-packages\\pandas\\core\\frame.py:3959\u001b[0m, in \u001b[0;36mDataFrame.__setitem__\u001b[1;34m(self, key, value)\u001b[0m\n\u001b[0;32m   3956\u001b[0m     \u001b[39mself\u001b[39m\u001b[39m.\u001b[39m_setitem_array([key], value)\n\u001b[0;32m   3957\u001b[0m \u001b[39melse\u001b[39;00m:\n\u001b[0;32m   3958\u001b[0m     \u001b[39m# set column\u001b[39;00m\n\u001b[1;32m-> 3959\u001b[0m     \u001b[39mself\u001b[39;49m\u001b[39m.\u001b[39;49m_set_item(key, value)\n",
      "File \u001b[1;32mc:\\Users\\wqg16\\AppData\\Local\\Programs\\Python\\Python38\\lib\\site-packages\\pandas\\core\\frame.py:4152\u001b[0m, in \u001b[0;36mDataFrame._set_item\u001b[1;34m(self, key, value)\u001b[0m\n\u001b[0;32m   4142\u001b[0m \u001b[39mdef\u001b[39;00m \u001b[39m_set_item\u001b[39m(\u001b[39mself\u001b[39m, key, value) \u001b[39m-\u001b[39m\u001b[39m>\u001b[39m \u001b[39mNone\u001b[39;00m:\n\u001b[0;32m   4143\u001b[0m     \u001b[39m\"\"\"\u001b[39;00m\n\u001b[0;32m   4144\u001b[0m \u001b[39m    Add series to DataFrame in specified column.\u001b[39;00m\n\u001b[0;32m   4145\u001b[0m \n\u001b[1;32m   (...)\u001b[0m\n\u001b[0;32m   4150\u001b[0m \u001b[39m    ensure homogeneity.\u001b[39;00m\n\u001b[0;32m   4151\u001b[0m \u001b[39m    \"\"\"\u001b[39;00m\n\u001b[1;32m-> 4152\u001b[0m     value \u001b[39m=\u001b[39m \u001b[39mself\u001b[39;49m\u001b[39m.\u001b[39;49m_sanitize_column(value)\n\u001b[0;32m   4154\u001b[0m     \u001b[39mif\u001b[39;00m (\n\u001b[0;32m   4155\u001b[0m         key \u001b[39min\u001b[39;00m \u001b[39mself\u001b[39m\u001b[39m.\u001b[39mcolumns\n\u001b[0;32m   4156\u001b[0m         \u001b[39mand\u001b[39;00m value\u001b[39m.\u001b[39mndim \u001b[39m==\u001b[39m \u001b[39m1\u001b[39m\n\u001b[0;32m   4157\u001b[0m         \u001b[39mand\u001b[39;00m \u001b[39mnot\u001b[39;00m is_extension_array_dtype(value)\n\u001b[0;32m   4158\u001b[0m     ):\n\u001b[0;32m   4159\u001b[0m         \u001b[39m# broadcast across multiple columns if necessary\u001b[39;00m\n\u001b[0;32m   4160\u001b[0m         \u001b[39mif\u001b[39;00m \u001b[39mnot\u001b[39;00m \u001b[39mself\u001b[39m\u001b[39m.\u001b[39mcolumns\u001b[39m.\u001b[39mis_unique \u001b[39mor\u001b[39;00m \u001b[39misinstance\u001b[39m(\u001b[39mself\u001b[39m\u001b[39m.\u001b[39mcolumns, MultiIndex):\n",
      "File \u001b[1;32mc:\\Users\\wqg16\\AppData\\Local\\Programs\\Python\\Python38\\lib\\site-packages\\pandas\\core\\frame.py:4868\u001b[0m, in \u001b[0;36mDataFrame._sanitize_column\u001b[1;34m(self, value)\u001b[0m\n\u001b[0;32m   4855\u001b[0m \u001b[39mdef\u001b[39;00m \u001b[39m_sanitize_column\u001b[39m(\u001b[39mself\u001b[39m, value) \u001b[39m-\u001b[39m\u001b[39m>\u001b[39m ArrayLike:\n\u001b[0;32m   4856\u001b[0m     \u001b[39m\"\"\"\u001b[39;00m\n\u001b[0;32m   4857\u001b[0m \u001b[39m    Ensures new columns (which go into the BlockManager as new blocks) are\u001b[39;00m\n\u001b[0;32m   4858\u001b[0m \u001b[39m    always copied and converted into an array.\u001b[39;00m\n\u001b[1;32m   (...)\u001b[0m\n\u001b[0;32m   4866\u001b[0m \u001b[39m    numpy.ndarray or ExtensionArray\u001b[39;00m\n\u001b[0;32m   4867\u001b[0m \u001b[39m    \"\"\"\u001b[39;00m\n\u001b[1;32m-> 4868\u001b[0m     \u001b[39mself\u001b[39;49m\u001b[39m.\u001b[39;49m_ensure_valid_index(value)\n\u001b[0;32m   4870\u001b[0m     \u001b[39m# We can get there through isetitem with a DataFrame\u001b[39;00m\n\u001b[0;32m   4871\u001b[0m     \u001b[39m# or through loc single_block_path\u001b[39;00m\n\u001b[0;32m   4872\u001b[0m     \u001b[39mif\u001b[39;00m \u001b[39misinstance\u001b[39m(value, DataFrame):\n",
      "File \u001b[1;32mc:\\Users\\wqg16\\AppData\\Local\\Programs\\Python\\Python38\\lib\\site-packages\\pandas\\core\\frame.py:4233\u001b[0m, in \u001b[0;36mDataFrame._ensure_valid_index\u001b[1;34m(self, value)\u001b[0m\n\u001b[0;32m   4230\u001b[0m \u001b[39mif\u001b[39;00m \u001b[39mself\u001b[39m\u001b[39m.\u001b[39mindex\u001b[39m.\u001b[39mname \u001b[39mis\u001b[39;00m \u001b[39mnot\u001b[39;00m \u001b[39mNone\u001b[39;00m:\n\u001b[0;32m   4231\u001b[0m     index_copy\u001b[39m.\u001b[39mname \u001b[39m=\u001b[39m \u001b[39mself\u001b[39m\u001b[39m.\u001b[39mindex\u001b[39m.\u001b[39mname\n\u001b[1;32m-> 4233\u001b[0m \u001b[39mself\u001b[39m\u001b[39m.\u001b[39m_mgr \u001b[39m=\u001b[39m \u001b[39mself\u001b[39;49m\u001b[39m.\u001b[39;49m_mgr\u001b[39m.\u001b[39;49mreindex_axis(index_copy, axis\u001b[39m=\u001b[39;49m\u001b[39m1\u001b[39;49m, fill_value\u001b[39m=\u001b[39;49mnp\u001b[39m.\u001b[39;49mnan)\n",
      "File \u001b[1;32mc:\\Users\\wqg16\\AppData\\Local\\Programs\\Python\\Python38\\lib\\site-packages\\pandas\\core\\internals\\base.py:100\u001b[0m, in \u001b[0;36mDataManager.reindex_axis\u001b[1;34m(self, new_index, axis, fill_value, only_slice)\u001b[0m\n\u001b[0;32m     95\u001b[0m \u001b[39m\"\"\"\u001b[39;00m\n\u001b[0;32m     96\u001b[0m \u001b[39mConform data manager to new index.\u001b[39;00m\n\u001b[0;32m     97\u001b[0m \u001b[39m\"\"\"\u001b[39;00m\n\u001b[0;32m     98\u001b[0m new_index, indexer \u001b[39m=\u001b[39m \u001b[39mself\u001b[39m\u001b[39m.\u001b[39maxes[axis]\u001b[39m.\u001b[39mreindex(new_index)\n\u001b[1;32m--> 100\u001b[0m \u001b[39mreturn\u001b[39;00m \u001b[39mself\u001b[39;49m\u001b[39m.\u001b[39;49mreindex_indexer(\n\u001b[0;32m    101\u001b[0m     new_index,\n\u001b[0;32m    102\u001b[0m     indexer,\n\u001b[0;32m    103\u001b[0m     axis\u001b[39m=\u001b[39;49maxis,\n\u001b[0;32m    104\u001b[0m     fill_value\u001b[39m=\u001b[39;49mfill_value,\n\u001b[0;32m    105\u001b[0m     copy\u001b[39m=\u001b[39;49m\u001b[39mFalse\u001b[39;49;00m,\n\u001b[0;32m    106\u001b[0m     only_slice\u001b[39m=\u001b[39;49monly_slice,\n\u001b[0;32m    107\u001b[0m )\n",
      "File \u001b[1;32mc:\\Users\\wqg16\\AppData\\Local\\Programs\\Python\\Python38\\lib\\site-packages\\pandas\\core\\internals\\managers.py:747\u001b[0m, in \u001b[0;36mBaseBlockManager.reindex_indexer\u001b[1;34m(self, new_axis, indexer, axis, fill_value, allow_dups, copy, only_slice, use_na_proxy)\u001b[0m\n\u001b[0;32m    740\u001b[0m     new_blocks \u001b[39m=\u001b[39m \u001b[39mself\u001b[39m\u001b[39m.\u001b[39m_slice_take_blocks_ax0(\n\u001b[0;32m    741\u001b[0m         indexer,\n\u001b[0;32m    742\u001b[0m         fill_value\u001b[39m=\u001b[39mfill_value,\n\u001b[0;32m    743\u001b[0m         only_slice\u001b[39m=\u001b[39monly_slice,\n\u001b[0;32m    744\u001b[0m         use_na_proxy\u001b[39m=\u001b[39muse_na_proxy,\n\u001b[0;32m    745\u001b[0m     )\n\u001b[0;32m    746\u001b[0m \u001b[39melse\u001b[39;00m:\n\u001b[1;32m--> 747\u001b[0m     new_blocks \u001b[39m=\u001b[39m [\n\u001b[0;32m    748\u001b[0m         blk\u001b[39m.\u001b[39mtake_nd(\n\u001b[0;32m    749\u001b[0m             indexer,\n\u001b[0;32m    750\u001b[0m             axis\u001b[39m=\u001b[39m\u001b[39m1\u001b[39m,\n\u001b[0;32m    751\u001b[0m             fill_value\u001b[39m=\u001b[39m(\n\u001b[0;32m    752\u001b[0m                 fill_value \u001b[39mif\u001b[39;00m fill_value \u001b[39mis\u001b[39;00m \u001b[39mnot\u001b[39;00m \u001b[39mNone\u001b[39;00m \u001b[39melse\u001b[39;00m blk\u001b[39m.\u001b[39mfill_value\n\u001b[0;32m    753\u001b[0m             ),\n\u001b[0;32m    754\u001b[0m         )\n\u001b[0;32m    755\u001b[0m         \u001b[39mfor\u001b[39;00m blk \u001b[39min\u001b[39;00m \u001b[39mself\u001b[39m\u001b[39m.\u001b[39mblocks\n\u001b[0;32m    756\u001b[0m     ]\n\u001b[0;32m    758\u001b[0m new_axes \u001b[39m=\u001b[39m \u001b[39mlist\u001b[39m(\u001b[39mself\u001b[39m\u001b[39m.\u001b[39maxes)\n\u001b[0;32m    759\u001b[0m new_axes[axis] \u001b[39m=\u001b[39m new_axis\n",
      "File \u001b[1;32mc:\\Users\\wqg16\\AppData\\Local\\Programs\\Python\\Python38\\lib\\site-packages\\pandas\\core\\internals\\managers.py:748\u001b[0m, in \u001b[0;36m<listcomp>\u001b[1;34m(.0)\u001b[0m\n\u001b[0;32m    740\u001b[0m     new_blocks \u001b[39m=\u001b[39m \u001b[39mself\u001b[39m\u001b[39m.\u001b[39m_slice_take_blocks_ax0(\n\u001b[0;32m    741\u001b[0m         indexer,\n\u001b[0;32m    742\u001b[0m         fill_value\u001b[39m=\u001b[39mfill_value,\n\u001b[0;32m    743\u001b[0m         only_slice\u001b[39m=\u001b[39monly_slice,\n\u001b[0;32m    744\u001b[0m         use_na_proxy\u001b[39m=\u001b[39muse_na_proxy,\n\u001b[0;32m    745\u001b[0m     )\n\u001b[0;32m    746\u001b[0m \u001b[39melse\u001b[39;00m:\n\u001b[0;32m    747\u001b[0m     new_blocks \u001b[39m=\u001b[39m [\n\u001b[1;32m--> 748\u001b[0m         blk\u001b[39m.\u001b[39;49mtake_nd(\n\u001b[0;32m    749\u001b[0m             indexer,\n\u001b[0;32m    750\u001b[0m             axis\u001b[39m=\u001b[39;49m\u001b[39m1\u001b[39;49m,\n\u001b[0;32m    751\u001b[0m             fill_value\u001b[39m=\u001b[39;49m(\n\u001b[0;32m    752\u001b[0m                 fill_value \u001b[39mif\u001b[39;49;00m fill_value \u001b[39mis\u001b[39;49;00m \u001b[39mnot\u001b[39;49;00m \u001b[39mNone\u001b[39;49;00m \u001b[39melse\u001b[39;49;00m blk\u001b[39m.\u001b[39;49mfill_value\n\u001b[0;32m    753\u001b[0m             ),\n\u001b[0;32m    754\u001b[0m         )\n\u001b[0;32m    755\u001b[0m         \u001b[39mfor\u001b[39;00m blk \u001b[39min\u001b[39;00m \u001b[39mself\u001b[39m\u001b[39m.\u001b[39mblocks\n\u001b[0;32m    756\u001b[0m     ]\n\u001b[0;32m    758\u001b[0m new_axes \u001b[39m=\u001b[39m \u001b[39mlist\u001b[39m(\u001b[39mself\u001b[39m\u001b[39m.\u001b[39maxes)\n\u001b[0;32m    759\u001b[0m new_axes[axis] \u001b[39m=\u001b[39m new_axis\n",
      "File \u001b[1;32mc:\\Users\\wqg16\\AppData\\Local\\Programs\\Python\\Python38\\lib\\site-packages\\pandas\\core\\internals\\blocks.py:945\u001b[0m, in \u001b[0;36mBlock.take_nd\u001b[1;34m(self, indexer, axis, new_mgr_locs, fill_value)\u001b[0m\n\u001b[0;32m    942\u001b[0m     allow_fill \u001b[39m=\u001b[39m \u001b[39mTrue\u001b[39;00m\n\u001b[0;32m    944\u001b[0m \u001b[39m# Note: algos.take_nd has upcast logic similar to coerce_to_target_dtype\u001b[39;00m\n\u001b[1;32m--> 945\u001b[0m new_values \u001b[39m=\u001b[39m algos\u001b[39m.\u001b[39;49mtake_nd(\n\u001b[0;32m    946\u001b[0m     values, indexer, axis\u001b[39m=\u001b[39;49maxis, allow_fill\u001b[39m=\u001b[39;49mallow_fill, fill_value\u001b[39m=\u001b[39;49mfill_value\n\u001b[0;32m    947\u001b[0m )\n\u001b[0;32m    949\u001b[0m \u001b[39m# Called from three places in managers, all of which satisfy\u001b[39;00m\n\u001b[0;32m    950\u001b[0m \u001b[39m#  these assertions\u001b[39;00m\n\u001b[0;32m    951\u001b[0m \u001b[39mif\u001b[39;00m \u001b[39misinstance\u001b[39m(\u001b[39mself\u001b[39m, ExtensionBlock):\n\u001b[0;32m    952\u001b[0m     \u001b[39m# NB: in this case, the 'axis' kwarg will be ignored in the\u001b[39;00m\n\u001b[0;32m    953\u001b[0m     \u001b[39m#  algos.take_nd call above.\u001b[39;00m\n",
      "File \u001b[1;32mc:\\Users\\wqg16\\AppData\\Local\\Programs\\Python\\Python38\\lib\\site-packages\\pandas\\core\\array_algos\\take.py:117\u001b[0m, in \u001b[0;36mtake_nd\u001b[1;34m(arr, indexer, axis, fill_value, allow_fill)\u001b[0m\n\u001b[0;32m    114\u001b[0m     \u001b[39mreturn\u001b[39;00m arr\u001b[39m.\u001b[39mtake(indexer, fill_value\u001b[39m=\u001b[39mfill_value, allow_fill\u001b[39m=\u001b[39mallow_fill)\n\u001b[0;32m    116\u001b[0m arr \u001b[39m=\u001b[39m np\u001b[39m.\u001b[39masarray(arr)\n\u001b[1;32m--> 117\u001b[0m \u001b[39mreturn\u001b[39;00m _take_nd_ndarray(arr, indexer, axis, fill_value, allow_fill)\n",
      "File \u001b[1;32mc:\\Users\\wqg16\\AppData\\Local\\Programs\\Python\\Python38\\lib\\site-packages\\pandas\\core\\array_algos\\take.py:165\u001b[0m, in \u001b[0;36m_take_nd_ndarray\u001b[1;34m(arr, indexer, axis, fill_value, allow_fill)\u001b[0m\n\u001b[0;32m    162\u001b[0m func(arr, indexer, out, fill_value)\n\u001b[0;32m    164\u001b[0m \u001b[39mif\u001b[39;00m flip_order:\n\u001b[1;32m--> 165\u001b[0m     out \u001b[39m=\u001b[39m out\u001b[39m.\u001b[39;49mT\n\u001b[0;32m    166\u001b[0m \u001b[39mreturn\u001b[39;00m out\n",
      "\u001b[1;31mKeyboardInterrupt\u001b[0m: "
     ]
    }
   ],
   "source": [
    "# needs to swap out the nah columns into averages \n",
    "not_used_country_list = []\n",
    "for key in country_code_map:\n",
    "    country_mdf = mdf[mdf['Country'] == key]\n",
    "    if country_mdf.empty:\n",
    "        not_used_country_list.append(key)\n",
    "    else:\n",
    "        min_year = int(country_mdf['Year'].min())\n",
    "        max_year = int(country_mdf['Year'].max()) \n",
    "        for i in range (min_year, max_year + 1):\n",
    "            year_mdf = country_mdf[country_mdf['Year'] == i]\n",
    "            for c in year_mdf.columns:\n",
    "                mdf = mdf.loc[(mdf['Country'] == key) & (mdf['Year'] == i)][c].fillna(year_mdf[c].mean()) \n",
    "        "
   ]
  },
  {
   "cell_type": "code",
   "execution_count": null,
   "metadata": {},
   "outputs": [],
   "source": []
  },
  {
   "cell_type": "code",
   "execution_count": 28,
   "metadata": {},
   "outputs": [],
   "source": [
    "for key in country_code_map:\n",
    "    country_mdf = mdf[mdf['Country'] == key]\n",
    "    display(country_mdf)"
   ]
  },
  {
   "cell_type": "code",
   "execution_count": null,
   "metadata": {},
   "outputs": [],
   "source": [
    "# looping through the code map to locate each different countries\n",
    "# condense the mortality and pop rate \n",
    "undesired = ['Admin1', 'SubDiv', 'Sex', 'List', 'Frmat', 'IM_Frmat', 'Cause', 'IM_Deaths1','IM_Deaths2', 'IM_Deaths3', 'IM_Deaths4']\n",
    "modified_dict = {}\n",
    "for i in mdf.columns.values:\n",
    "    if i not in undesired:\n",
    "       modified_dict[i] = []\n",
    "\n",
    "modified_df = pd.DataFrame(modified_dict)\n",
    "list_delete_keys = []\n",
    "consider_population = True\n",
    "\n",
    "for key in country_code_map: \n",
    "    temp_mortality_df = mdf[mdf['Country'] == key] # filter to the country\n",
    "    temp_pop_data = pop_data[pop_data['Country'] == key]\n",
    "    if temp_mortality_df.empty:\n",
    "        list_delete_keys.append(key)\n",
    "    else:\n",
    "        for i in range (1980, 2003):\n",
    "            temp_temp_mortality_df = temp_mortality_df.loc[temp_mortality_df['Year'] == i] # filter to the year \n",
    "            temp_temp_pop_data = temp_pop_data.loc[temp_pop_data['Year'] == i] \n",
    "            if temp_temp_mortality_df.empty:\n",
    "                continue\n",
    "            else:\n",
    "                modified_df.loc[modified_df.shape[0]] = ['None'] * modified_df.shape[1]\n",
    "                modified_df.loc[modified_df.shape[0]-1, ['Country']] = key\n",
    "                modified_df.loc[modified_df.shape[0]-1, ['Year']] = i\n",
    "                column_name = modified_df.columns.values \n",
    "                k = 1\n",
    "                for c in column_name[2:]:\n",
    "                    j = f'Pop{k}'\n",
    "                    population = temp_temp_pop_data[j].sum()\n",
    "                    if c in temp_temp_mortality_df.columns.values:\n",
    "                        if consider_population:\n",
    "                            if population == 0:\n",
    "                                modified_df.loc[modified_df.shape[0]-1, [c]] = 0\n",
    "                            else:\n",
    "                                modified_df.loc[modified_df.shape[0]-1, [c]] = temp_temp_mortality_df[c].sum() / population\n",
    "                        else:    \n",
    "                            modified_df.loc[modified_df.shape[0]-1, [c]] = temp_temp_mortality_df[c].sum() \n",
    "                    k += 1\n",
    "            \n",
    "                # modified_df.index = modified_df.index + 1\n",
    "                # modified_df = modified_df.sort_index()      "
   ]
  },
  {
   "cell_type": "code",
   "execution_count": null,
   "metadata": {},
   "outputs": [],
   "source": [
    "# delete keys from dictionary\n",
    "for key in list_delete_keys:\n",
    "    del country_code_map[key]"
   ]
  },
  {
   "cell_type": "code",
   "execution_count": null,
   "metadata": {},
   "outputs": [],
   "source": [
    "# building the mortality model \n",
    "country_mortality_model = {}\n",
    "final_beginning_year = 9999\n",
    "for key in country_code_map:\n",
    "    # isolate country\n",
    "    temp_modified_df = modified_df[modified_df['Country'] == key]\n",
    "    # temp_modified_df.drop(columns=['Country'], inplace = True) \n",
    "    \n",
    "    # finding alpha \n",
    "    last_year = temp_modified_df['Year'].max()\n",
    "    \n",
    "    if last_year < final_beginning_year:\n",
    "        final_beginning_year = last_year\n",
    "    \n",
    "    first_year = temp_modified_df['Year'].min()\n",
    "    duration = last_year - first_year + 1\n",
    "    last_row = temp_modified_df[temp_modified_df['Year'] == last_year].loc[:, ~temp_modified_df.columns.isin(['Country', 'Year'])].values.astype('float')\n",
    "    first_row = temp_modified_df[temp_modified_df['Year'] == first_year].loc[:, ~temp_modified_df.columns.isin(['Country', 'Year'])].values.astype('float')\n",
    "    aphla = (last_row - first_row) / duration\n",
    "\n",
    "    country_mortality_model[key] = {'a': aphla, 'd': duration}"
   ]
  },
  {
   "cell_type": "code",
   "execution_count": null,
   "metadata": {},
   "outputs": [],
   "source": [
    "final_ending_year = 2050\n",
    "current_year = 2000\n",
    "\n",
    "mortality_pred_all = []\n",
    "while current_year <= final_ending_year:\n",
    "    \n",
    "    mortality_pred_year = {}\n",
    "    \n",
    "    for key in country_code_map: \n",
    "        \n",
    "        print(key)\n",
    "        \n",
    "        # isolate the data to the target data row \\n\",\n",
    "        temp_modified_df = modified_df[(modified_df['Country'] == key)]  \n",
    "        # check if there is real data for this year for this country\\n\",\n",
    "        if current_year <= 2002:\n",
    "            df = temp_modified_df[temp_modified_df['Year'] == current_year + 1]\n",
    "            if not df.empty:\n",
    "                df = df.loc[:, ~df.columns.isin(['Country', 'Year'])].values.astype('float')\n",
    "                mortality_pred_year[key] = df \n",
    "                continue\n",
    " \n",
    "        # clean the data for the row\n",
    "        temp_modified_df = temp_modified_df[temp_modified_df['Year'] == current_year].loc[:, ~temp_modified_df.columns.isin(['Country', 'Year'])].values.astype('float')\n",
    "        # find the aphla, b and k value for the model for future \\n\",\n",
    "        aphla = country_mortality_model[key]['a']\n",
    "        duration = country_mortality_model[key]['d']\n",
    "        m_hat = (temp_modified_df - aphla)\n",
    "        s, u, v = np.linalg.svd(m_hat)\n",
    "        scalar = s[0]\n",
    "        k = scalar * u[0]\n",
    "        b = v[0] / scalar \n",
    "  \n",
    "        # compute the next years result\",\n",
    "        change = np.exp(aphla + b * k)\n",
    "        display(temp_modified_df.shape)\n",
    "        display(change.shape)\n",
    "        next_year = temp_mortality_df + change\n",
    "        mortality_pred_year[key] = next_year\n",
    "        \n",
    "        # update parameters\n",
    "        duration += 1\n",
    "        aphla = (aphla * duration + change) / duration\n",
    "        country_mortality_model[key]['a'] = aphla\n",
    "        country_mortality_model[key]['d'] = duration\n",
    "    \n",
    "    current_year += 1\n",
    "    mortality_pred_all.append(mortality_pred_year)\n",
    "        \n",
    "        \n"
   ]
  },
  {
   "cell_type": "code",
   "execution_count": null,
   "metadata": {},
   "outputs": [],
   "source": [
    "key = 1125\n",
    "temp_modified_df = modified_df[(modified_df['Country'] == key)]  \n",
    "# clean the data for the row\n",
    "temp_modified_df = temp_modified_df[temp_modified_df['Year'] == current_year].loc[:, ~temp_modified_df.columns.isin(['Country', 'Year'])].values.astype('float')\n",
    "# find the aphla, b and k value for the model for future \\n\",\n",
    "aphla = country_mortality_model[key]['a']\n",
    "duration = country_mortality_model[key]['d']\n",
    "m_hat = (temp_modified_df - aphla)\n",
    "s, u, v = np.linalg.svd(m_hat)\n",
    "scalar = s[0]\n",
    "k = scalar * u[0]\n",
    "b = v[0] / scalar \n",
    "\n",
    "display(aphla)\n",
    "display(k, b)\n",
    "change = np.exp(aphla + b * k)\n",
    "display(temp_modified_df)\n",
    "display(change)\n",
    "display(temp_modified_df.shape)\n",
    "next_year = temp_mortality_df + change\n",
    "mortality_pred_year[key] = next_year"
   ]
  }
 ],
 "metadata": {
  "kernelspec": {
   "display_name": "Python 3.11.0 64-bit",
   "language": "python",
   "name": "python3"
  },
  "language_info": {
   "codemirror_mode": {
    "name": "ipython",
    "version": 3
   },
   "file_extension": ".py",
   "mimetype": "text/x-python",
   "name": "python",
   "nbconvert_exporter": "python",
   "pygments_lexer": "ipython3",
   "version": "3.8.0"
  },
  "orig_nbformat": 4,
  "vscode": {
   "interpreter": {
    "hash": "aee8b7b246df8f9039afb4144a1f6fd8d2ca17a180786b69acc140d282b71a49"
   }
  }
 },
 "nbformat": 4,
 "nbformat_minor": 2
}
