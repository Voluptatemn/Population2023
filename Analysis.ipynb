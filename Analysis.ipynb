{
 "cells": [
  {
   "cell_type": "code",
   "execution_count": 6,
   "metadata": {},
   "outputs": [],
   "source": [
    "# import library\n",
    "import pandas as pd\n",
    "import numpy as np \n",
    "import matlab \n",
    "import matplotlib as plt\n",
    "import os\n",
    "import numpy as np\n"
   ]
  },
  {
   "cell_type": "code",
   "execution_count": 7,
   "metadata": {},
   "outputs": [],
   "source": [
    "# read the file\n",
    "# mortality\n",
    "mortality_path = r'data/Morticd10_part1.csv'\n",
    "mortality_data_2002 = pd.read_csv(mortality_path, low_memory=False)"
   ]
  },
  {
   "cell_type": "code",
   "execution_count": 8,
   "metadata": {},
   "outputs": [],
   "source": [
    "# population\n",
    "pop_path = r'data/pop.csv'\n",
    "pop_data = pd.read_csv(pop_path, low_memory=False)"
   ]
  },
  {
   "cell_type": "code",
   "execution_count": 9,
   "metadata": {},
   "outputs": [],
   "source": [
    "# country code\n",
    "country_code_path = r'data/country_codes.csv'\n",
    "country_code = pd.read_csv(country_code_path, low_memory=False)"
   ]
  },
  {
   "cell_type": "code",
   "execution_count": 10,
   "metadata": {},
   "outputs": [],
   "source": [
    "# changes to the mortality data file, creating a new data frame with only the number of deaths and the population, country, year, deaths1 - deaths26, pop1 - pop 26, im_death\n",
    "# creating the country code map \n",
    "country_code_map = {}\n",
    "for index, rows in country_code.iterrows():\n",
    "    country_code_map[rows['country']] = rows['name']\n",
    "    "
   ]
  },
  {
   "cell_type": "code",
   "execution_count": 13,
   "metadata": {},
   "outputs": [],
   "source": [
    "# looping through the code map to locate each different countries\n",
    "# condense the mortality and pop rate \n",
    "undesired = ['Admin1', 'SubDiv', 'Sex', 'List', 'Frmat', 'IM_Frmat', 'Cause']\n",
    "modified_dict = {}\n",
    "for i in mortality_data_2002.columns.values:\n",
    "    if i not in undesired:\n",
    "       modified_dict[i] = []\n",
    "\n",
    "modified_df = pd.DataFrame(modified_dict)\n",
    "list_delete_keys = []\n",
    "\n",
    "for key in country_code_map: \n",
    "    temp_mortality_df = mortality_data_2002[mortality_data_2002['Country'] == key] # filter to the country\n",
    "    if temp_mortality_df.empty:\n",
    "        list_delete_keys.append(key)\n",
    "    else:\n",
    "        for i in range (1980, 2003):\n",
    "            temp_temp_mortality_df = temp_mortality_df.loc[temp_mortality_df['Year'] == i] # filter to the year \n",
    "            if temp_temp_mortality_df.empty:\n",
    "                continue\n",
    "            else:\n",
    "                modified_df.loc[modified_df.shape[0]] = ['None'] * modified_df.shape[1]\n",
    "                modified_df.loc[modified_df.shape[0]-1, ['Country']] = key\n",
    "                modified_df.loc[modified_df.shape[0]-1, ['Year']] = i\n",
    "                column_name = modified_df.columns.values \n",
    "                for c in column_name[2:]:\n",
    "                    if c in temp_temp_mortality_df.columns.values:\n",
    "                        modified_df.loc[modified_df.shape[0]-1, [c]] = temp_temp_mortality_df[c].sum()\n",
    "            \n",
    "                # modified_df.index = modified_df.index + 1\n",
    "                # modified_df = modified_df.sort_index()      "
   ]
  },
  {
   "cell_type": "code",
   "execution_count": 14,
   "metadata": {},
   "outputs": [],
   "source": [
    "# delete keys from dictionary\n",
    "for key in list_delete_keys:\n",
    "    del country_code_map[key]"
   ]
  },
  {
   "cell_type": "code",
   "execution_count": 16,
   "metadata": {},
   "outputs": [],
   "source": [
    "# building the mortality model \n",
    "country_mortality_model = {}\n",
    "final_beginning_year = 9999\n",
    "for key in country_code_map:\n",
    "    # isolate country\n",
    "    temp_modified_df = modified_df[modified_df['Country'] == key]\n",
    "    # temp_modified_df.drop(columns=['Country'], inplace = True) \n",
    "    \n",
    "    # finding alpha \n",
    "    last_year = temp_modified_df['Year'].max()\n",
    "    \n",
    "    if last_year < final_beginning_year:\n",
    "        final_beginning_year = last_year\n",
    "    \n",
    "    first_year = temp_modified_df['Year'].min()\n",
    "    duration = last_year - first_year + 1\n",
    "    last_row = temp_modified_df[temp_modified_df['Year'] == last_year].loc[:, ~temp_modified_df.columns.isin(['Country', 'Year'])].values.astype('float')\n",
    "    first_row = temp_modified_df[temp_modified_df['Year'] == first_year].loc[:, ~temp_modified_df.columns.isin(['Country', 'Year'])].values.astype('float')\n",
    "    aphla = (last_row - first_row) / duration\n",
    "\n",
    "    country_mortality_model[key] = {'a': aphla, 'd': duration}\n",
    "    \n",
    "    \n",
    "    \n",
    "        "
   ]
  },
  {
   "cell_type": "code",
   "execution_count": 18,
   "metadata": {},
   "outputs": [
    {
     "name": "stdout",
     "output_type": "stream",
     "text": [
      "1125\n"
     ]
    },
    {
     "name": "stderr",
     "output_type": "stream",
     "text": [
      "/var/folders/yx/9q4x8z0j59xc5mhjy9yjp87r0000gn/T/ipykernel_55479/730995229.py:17: UserWarning: Boolean Series key will be reindexed to match DataFrame index.\n",
      "  temp_modified_df = temp_modified_df[modified_df['Year'] == current_year + 1]\n",
      "/var/folders/yx/9q4x8z0j59xc5mhjy9yjp87r0000gn/T/ipykernel_55479/730995229.py:24: UserWarning: Boolean Series key will be reindexed to match DataFrame index.\n",
      "  temp_modified_df = temp_modified_df[modified_df['Year'] == current_year].loc[:, ~temp_modified_df.columns.isin(['Country', 'Year'])].values.astype('float')\n"
     ]
    },
    {
     "ename": "IndexError",
     "evalue": "index 0 is out of bounds for axis 0 with size 0",
     "output_type": "error",
     "traceback": [
      "\u001b[0;31m---------------------------------------------------------------------------\u001b[0m",
      "\u001b[0;31mIndexError\u001b[0m                                Traceback (most recent call last)",
      "Cell \u001b[0;32mIn[18], line 31\u001b[0m\n\u001b[1;32m     29\u001b[0m m_hat \u001b[39m=\u001b[39m (temp_modified_df \u001b[39m-\u001b[39m aphla)\n\u001b[1;32m     30\u001b[0m s, u, v \u001b[39m=\u001b[39m np\u001b[39m.\u001b[39mlinalg\u001b[39m.\u001b[39msvd(m_hat)\n\u001b[0;32m---> 31\u001b[0m scalar \u001b[39m=\u001b[39m s[\u001b[39m0\u001b[39;49m][\u001b[39m0\u001b[39m]\n\u001b[1;32m     32\u001b[0m k \u001b[39m=\u001b[39m scalar \u001b[39m*\u001b[39m u[\u001b[39m0\u001b[39m]\n\u001b[1;32m     33\u001b[0m b \u001b[39m=\u001b[39m v[\u001b[39m0\u001b[39m] \u001b[39m/\u001b[39m scalar \n",
      "\u001b[0;31mIndexError\u001b[0m: index 0 is out of bounds for axis 0 with size 0"
     ]
    }
   ],
   "source": [
    "final_ending_year = 2050\n",
    "mortality_pred_all = []\n",
    "current_year = final_beginning_year\n",
    "while current_year <= final_ending_year:\n",
    "    \n",
    "    mortality_pred_year = {}\n",
    "    current_year += 1\n",
    "    \n",
    "    for key in country_code_map: \n",
    "        \n",
    "        print(key)\n",
    "        \n",
    "        # isolate the data to the target data row \\n\",\n",
    "        temp_modified_df = modified_df[(modified_df['Country'] == key)]  \n",
    "        # check if there is real data for this year for this country\\n\",\n",
    "        if current_year <= 2002:\n",
    "            temp_modified_df = temp_modified_df[modified_df['Year'] == current_year + 1]\n",
    "            if temp_modified_df.empty:\n",
    "                temp_modified_df = temp_modified_df.loc[:, ~temp_modified_df.columns.isin(['Country', 'Year'])].values.astype('float')\n",
    "                mortality_pred_year[key] = temp_modified_df \n",
    "                continue\n",
    " \n",
    "        # clean the data for the row \\n\",\n",
    "        temp_modified_df = temp_modified_df[modified_df['Year'] == current_year].loc[:, ~temp_modified_df.columns.isin(['Country', 'Year'])].values.astype('float')\n",
    "    \n",
    "        # find the aphla, b and k value for the model for future \\n\",\n",
    "        aphla = country_mortality_model[key]['a']\n",
    "        duration = country_mortality_model[key]['d']\n",
    "        m_hat = (temp_modified_df - aphla)\n",
    "        s, u, v = np.linalg.svd(m_hat)\n",
    "        scalar = s[0][0]\n",
    "        k = scalar * u[0]\n",
    "        b = v[0] / scalar \n",
    "  \n",
    "        # compute the next years result\",\n",
    "        change = aphla + b * k \n",
    "        next_year = temp_mortality_df +change\n",
    "        mortality_pred_year[key] = next_year\n",
    "        \n",
    "        # update parameters\n",
    "        duration += 1\n",
    "        aphla = (aphla * duration + change) / duration\n",
    "        country_mortality_model[key]['a'] = aphla\n",
    "        country_mortality_model[key]['d'] = duration\n",
    "    \n",
    "    mortality_pred_all.append(mortality_pred_year)\n",
    "        \n",
    "        \n"
   ]
  }
 ],
 "metadata": {
  "kernelspec": {
   "display_name": "Python 3.11.0 64-bit",
   "language": "python",
   "name": "python3"
  },
  "language_info": {
   "codemirror_mode": {
    "name": "ipython",
    "version": 3
   },
   "file_extension": ".py",
   "mimetype": "text/x-python",
   "name": "python",
   "nbconvert_exporter": "python",
   "pygments_lexer": "ipython3",
   "version": "3.11.0"
  },
  "orig_nbformat": 4,
  "vscode": {
   "interpreter": {
    "hash": "aee8b7b246df8f9039afb4144a1f6fd8d2ca17a180786b69acc140d282b71a49"
   }
  }
 },
 "nbformat": 4,
 "nbformat_minor": 2
}
