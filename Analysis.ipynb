{
 "cells": [
  {
   "cell_type": "code",
   "execution_count": 23,
   "metadata": {},
   "outputs": [],
   "source": [
    "# import library\n",
    "import pandas as pd\n",
    "import numpy as np \n",
    "import matlab \n",
    "import matplotlib as plt\n",
    "import os"
   ]
  },
  {
   "cell_type": "code",
   "execution_count": 55,
   "metadata": {},
   "outputs": [
    {
     "name": "stdout",
     "output_type": "stream",
     "text": [
      "   Country  Admin1  SubDiv  Year List Cause  Sex  Frmat  IM_Frmat  Deaths1   \n",
      "0     1400     NaN     NaN  2001  101  1000    1      7         8      332  \\\n",
      "1     1400     NaN     NaN  2001  101  1000    2      7         8      222   \n",
      "2     1400     NaN     NaN  2001  101  1001    1      7         8       24   \n",
      "3     1400     NaN     NaN  2001  101  1001    2      7         8       14   \n",
      "4     1400     NaN     NaN  2001  101  1002    1      7         8        0   \n",
      "\n",
      "   ...  Deaths21  Deaths22  Deaths23  Deaths24  Deaths25  Deaths26   \n",
      "0  ...      95.0       NaN       NaN       NaN       NaN       0.0  \\\n",
      "1  ...     112.0       NaN       NaN       NaN       NaN       0.0   \n",
      "2  ...       5.0       NaN       NaN       NaN       NaN       0.0   \n",
      "3  ...       6.0       NaN       NaN       NaN       NaN       0.0   \n",
      "4  ...       0.0       NaN       NaN       NaN       NaN       0.0   \n",
      "\n",
      "   IM_Deaths1  IM_Deaths2  IM_Deaths3  IM_Deaths4  \n",
      "0         8.0         NaN         NaN         NaN  \n",
      "1        11.0         NaN         NaN         NaN  \n",
      "2         0.0         NaN         NaN         NaN  \n",
      "3         0.0         NaN         NaN         NaN  \n",
      "4         0.0         NaN         NaN         NaN  \n",
      "\n",
      "[5 rows x 39 columns]\n",
      "(1022017, 39)\n"
     ]
    }
   ],
   "source": [
    "# read the file\n",
    "# mortality\n",
    "mortality_path = r'data\\Morticd10_part1.csv'\n",
    "mortality_data_2002 = pd.read_csv(mortality_path, low_memory=False)\n",
    "print(mortality_data_2002.head()) \n",
    "print(mortality_data_2002.shape)\n",
    "    "
   ]
  },
  {
   "cell_type": "code",
   "execution_count": 25,
   "metadata": {},
   "outputs": [],
   "source": [
    "# population\n",
    "pop_path = r'data\\pop.csv'\n",
    "pop_data = pd.read_csv(pop_path, low_memory=False)"
   ]
  },
  {
   "cell_type": "code",
   "execution_count": null,
   "metadata": {},
   "outputs": [
    {
     "data": {
      "text/plain": [
       "43    Seychelles\n",
       "Name: name, dtype: object"
      ]
     },
     "execution_count": 45,
     "metadata": {},
     "output_type": "execute_result"
    }
   ],
   "source": [
    "# country code\n",
    "country_code_path = r'data\\country_codes.csv'\n",
    "country_code = pd.read_csv(country_code_path, low_memory=False)"
   ]
  }
 ],
 "metadata": {
  "kernelspec": {
   "display_name": "Python 3",
   "language": "python",
   "name": "python3"
  },
  "language_info": {
   "codemirror_mode": {
    "name": "ipython",
    "version": 3
   },
   "file_extension": ".py",
   "mimetype": "text/x-python",
   "name": "python",
   "nbconvert_exporter": "python",
   "pygments_lexer": "ipython3",
   "version": "3.8.0"
  },
  "orig_nbformat": 4
 },
 "nbformat": 4,
 "nbformat_minor": 2
}
